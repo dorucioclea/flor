{
 "cells": [
  {
   "cell_type": "markdown",
   "metadata": {},
   "source": [
    "# Installation"
   ]
  },
  {
   "cell_type": "code",
   "execution_count": null,
   "metadata": {},
   "outputs": [],
   "source": [
    "! pip install flordb"
   ]
  },
  {
   "cell_type": "markdown",
   "metadata": {},
   "source": [
    "# Getting Started\n",
    "\n",
    "We start by selecting (or creating) a `git` repository to save our model training code as we iterate and experiment. Flor automatically commits your changes on every run, so no change is lost. Below we provide a sample repository you can use to follow along:"
   ]
  },
  {
   "cell_type": "code",
   "execution_count": null,
   "metadata": {},
   "outputs": [],
   "source": [
    "!git clone git@github.com:ucbepic/ml_tutorial ../ml_tutorial"
   ]
  },
  {
   "cell_type": "code",
   "execution_count": 2,
   "metadata": {},
   "outputs": [],
   "source": [
    "import os\n",
    "os.chdir('../ml_tutorial/')"
   ]
  },
  {
   "cell_type": "markdown",
   "metadata": {},
   "source": [
    "Run the `train.py` script to train a small linear model, \n",
    "and test your `flordb` installation."
   ]
  },
  {
   "cell_type": "code",
   "execution_count": null,
   "metadata": {},
   "outputs": [],
   "source": [
    "! python train.py --flor myFirstRun"
   ]
  },
  {
   "cell_type": "markdown",
   "metadata": {},
   "source": [
    "Flor will manage checkpoints, logs, command-line arguments, code changes, and other experiment metadata on each run (More details [below](#storage--data-layout)). All of this data is then expesed to the user via SQL or Pandas queries.\n"
   ]
  },
  {
   "cell_type": "markdown",
   "metadata": {},
   "source": [
    "# View your experiment history\n",
    "From the same directory you ran the examples above, open an iPython terminal, then load and pivot the log records.\n"
   ]
  },
  {
   "cell_type": "code",
   "execution_count": 3,
   "metadata": {},
   "outputs": [
    {
     "name": "stdout",
     "output_type": "stream",
     "text": [
      "STEPPING IN b6208b62f23ff3312364f3d1a3a7ebba0425be47\n"
     ]
    },
    {
     "data": {
      "text/html": [
       "<div>\n",
       "<style scoped>\n",
       "    .dataframe tbody tr th:only-of-type {\n",
       "        vertical-align: middle;\n",
       "    }\n",
       "\n",
       "    .dataframe tbody tr th {\n",
       "        vertical-align: top;\n",
       "    }\n",
       "\n",
       "    .dataframe thead th {\n",
       "        text-align: right;\n",
       "    }\n",
       "</style>\n",
       "<table border=\"1\" class=\"dataframe\">\n",
       "  <thead>\n",
       "    <tr style=\"text-align: right;\">\n",
       "      <th></th>\n",
       "      <th>projid</th>\n",
       "      <th>runid</th>\n",
       "      <th>tstamp</th>\n",
       "      <th>vid</th>\n",
       "      <th>epoch</th>\n",
       "      <th>step</th>\n",
       "      <th>loss</th>\n",
       "      <th>epochs</th>\n",
       "      <th>lr</th>\n",
       "      <th>hidden</th>\n",
       "      <th>batch_size</th>\n",
       "    </tr>\n",
       "  </thead>\n",
       "  <tbody>\n",
       "    <tr>\n",
       "      <th>0</th>\n",
       "      <td>ml_tutorial_flor.shadow.readme</td>\n",
       "      <td>myFirstRun</td>\n",
       "      <td>2023-07-20T11:51:45</td>\n",
       "      <td>b6208b62f23ff3312364f3d1a3a7ebba0425be47</td>\n",
       "      <td>1</td>\n",
       "      <td>100</td>\n",
       "      <td>0.4003249704837799</td>\n",
       "      <td>5</td>\n",
       "      <td>0.001</td>\n",
       "      <td>500</td>\n",
       "      <td>32</td>\n",
       "    </tr>\n",
       "    <tr>\n",
       "      <th>1</th>\n",
       "      <td>ml_tutorial_flor.shadow.readme</td>\n",
       "      <td>myFirstRun</td>\n",
       "      <td>2023-07-20T11:51:45</td>\n",
       "      <td>b6208b62f23ff3312364f3d1a3a7ebba0425be47</td>\n",
       "      <td>1</td>\n",
       "      <td>200</td>\n",
       "      <td>0.3539811670780182</td>\n",
       "      <td>5</td>\n",
       "      <td>0.001</td>\n",
       "      <td>500</td>\n",
       "      <td>32</td>\n",
       "    </tr>\n",
       "    <tr>\n",
       "      <th>2</th>\n",
       "      <td>ml_tutorial_flor.shadow.readme</td>\n",
       "      <td>myFirstRun</td>\n",
       "      <td>2023-07-20T11:51:45</td>\n",
       "      <td>b6208b62f23ff3312364f3d1a3a7ebba0425be47</td>\n",
       "      <td>1</td>\n",
       "      <td>300</td>\n",
       "      <td>0.49929293990135193</td>\n",
       "      <td>5</td>\n",
       "      <td>0.001</td>\n",
       "      <td>500</td>\n",
       "      <td>32</td>\n",
       "    </tr>\n",
       "    <tr>\n",
       "      <th>3</th>\n",
       "      <td>ml_tutorial_flor.shadow.readme</td>\n",
       "      <td>myFirstRun</td>\n",
       "      <td>2023-07-20T11:51:45</td>\n",
       "      <td>b6208b62f23ff3312364f3d1a3a7ebba0425be47</td>\n",
       "      <td>1</td>\n",
       "      <td>400</td>\n",
       "      <td>0.23701156675815582</td>\n",
       "      <td>5</td>\n",
       "      <td>0.001</td>\n",
       "      <td>500</td>\n",
       "      <td>32</td>\n",
       "    </tr>\n",
       "    <tr>\n",
       "      <th>4</th>\n",
       "      <td>ml_tutorial_flor.shadow.readme</td>\n",
       "      <td>myFirstRun</td>\n",
       "      <td>2023-07-20T11:51:45</td>\n",
       "      <td>b6208b62f23ff3312364f3d1a3a7ebba0425be47</td>\n",
       "      <td>1</td>\n",
       "      <td>500</td>\n",
       "      <td>0.16784034669399261</td>\n",
       "      <td>5</td>\n",
       "      <td>0.001</td>\n",
       "      <td>500</td>\n",
       "      <td>32</td>\n",
       "    </tr>\n",
       "  </tbody>\n",
       "</table>\n",
       "</div>"
      ],
      "text/plain": [
       "                           projid       runid               tstamp  \\\n",
       "0  ml_tutorial_flor.shadow.readme  myFirstRun  2023-07-20T11:51:45   \n",
       "1  ml_tutorial_flor.shadow.readme  myFirstRun  2023-07-20T11:51:45   \n",
       "2  ml_tutorial_flor.shadow.readme  myFirstRun  2023-07-20T11:51:45   \n",
       "3  ml_tutorial_flor.shadow.readme  myFirstRun  2023-07-20T11:51:45   \n",
       "4  ml_tutorial_flor.shadow.readme  myFirstRun  2023-07-20T11:51:45   \n",
       "\n",
       "                                        vid  epoch  step                 loss  \\\n",
       "0  b6208b62f23ff3312364f3d1a3a7ebba0425be47      1   100   0.4003249704837799   \n",
       "1  b6208b62f23ff3312364f3d1a3a7ebba0425be47      1   200   0.3539811670780182   \n",
       "2  b6208b62f23ff3312364f3d1a3a7ebba0425be47      1   300  0.49929293990135193   \n",
       "3  b6208b62f23ff3312364f3d1a3a7ebba0425be47      1   400  0.23701156675815582   \n",
       "4  b6208b62f23ff3312364f3d1a3a7ebba0425be47      1   500  0.16784034669399261   \n",
       "\n",
       "  epochs     lr hidden batch_size  \n",
       "0      5  0.001    500         32  \n",
       "1      5  0.001    500         32  \n",
       "2      5  0.001    500         32  \n",
       "3      5  0.001    500         32  \n",
       "4      5  0.001    500         32  "
      ]
     },
     "execution_count": 3,
     "metadata": {},
     "output_type": "execute_result"
    }
   ],
   "source": [
    "from flor import full_pivot, log_records\n",
    "df = full_pivot(log_records())\n",
    "\n",
    "df.head()"
   ]
  },
  {
   "cell_type": "markdown",
   "metadata": {},
   "source": [
    "# Run some more experiments\n",
    "The `train.py` script has been prepared in advance to define and manage four different hyper-parameters:"
   ]
  },
  {
   "cell_type": "code",
   "execution_count": 4,
   "metadata": {},
   "outputs": [
    {
     "name": "stdout",
     "output_type": "stream",
     "text": [
      "hidden_size = flor.arg(\"hidden\", default=500)\n",
      "num_epochs = flor.arg(\"epochs\", 5)\n",
      "batch_size = flor.arg(\"batch_size\", 32)\n",
      "learning_rate = flor.arg(\"lr\", 1e-3)\n"
     ]
    }
   ],
   "source": [
    "%cat train.py | grep flor.arg"
   ]
  },
  {
   "cell_type": "markdown",
   "metadata": {},
   "source": [
    "You can control any of the hyper-parameters (e.g. `hidden`) using Flor's command-line interface:"
   ]
  },
  {
   "cell_type": "code",
   "execution_count": 6,
   "metadata": {},
   "outputs": [
    {
     "name": "stdout",
     "output_type": "stream",
     "text": [
      "Epoch [1/5], Step [100/1875], Loss: 0.7720\n",
      "Epoch [1/5], Step [200/1875], Loss: 0.5216\n",
      "Epoch [1/5], Step [300/1875], Loss: 0.2941\n",
      "Epoch [1/5], Step [400/1875], Loss: 0.3155\n",
      "Epoch [1/5], Step [500/1875], Loss: 0.5852\n",
      "Epoch [1/5], Step [600/1875], Loss: 0.3453\n",
      "Epoch [1/5], Step [700/1875], Loss: 0.1697\n",
      "Epoch [1/5], Step [800/1875], Loss: 0.2625\n",
      "Epoch [1/5], Step [900/1875], Loss: 0.2256\n",
      "Epoch [1/5], Step [1000/1875], Loss: 0.3984\n",
      "Epoch [1/5], Step [1100/1875], Loss: 0.6364\n",
      "Epoch [1/5], Step [1200/1875], Loss: 0.3515\n",
      "Epoch [1/5], Step [1300/1875], Loss: 0.1398\n",
      "Epoch [1/5], Step [1400/1875], Loss: 0.1809\n",
      "Epoch [1/5], Step [1500/1875], Loss: 0.2526\n",
      "Epoch [1/5], Step [1600/1875], Loss: 0.0254\n",
      "Epoch [1/5], Step [1700/1875], Loss: 0.0561\n",
      "Epoch [1/5], Step [1800/1875], Loss: 0.0543\n",
      "Epoch [2/5], Step [100/1875], Loss: 0.0632\n",
      "Epoch [2/5], Step [200/1875], Loss: 0.2124\n",
      "Epoch [2/5], Step [300/1875], Loss: 0.1795\n",
      "Epoch [2/5], Step [400/1875], Loss: 0.1249\n",
      "Epoch [2/5], Step [500/1875], Loss: 0.0871\n",
      "Epoch [2/5], Step [600/1875], Loss: 0.1251\n",
      "Epoch [2/5], Step [700/1875], Loss: 0.1483\n",
      "Epoch [2/5], Step [800/1875], Loss: 0.2249\n",
      "Epoch [2/5], Step [900/1875], Loss: 0.0948\n",
      "Epoch [2/5], Step [1000/1875], Loss: 0.0466\n",
      "Epoch [2/5], Step [1100/1875], Loss: 0.1522\n",
      "Epoch [2/5], Step [1200/1875], Loss: 0.1461\n",
      "Epoch [2/5], Step [1300/1875], Loss: 0.0428\n",
      "Epoch [2/5], Step [1400/1875], Loss: 0.0927\n",
      "Epoch [2/5], Step [1500/1875], Loss: 0.0679\n",
      "Epoch [2/5], Step [1600/1875], Loss: 0.1865\n",
      "Epoch [2/5], Step [1700/1875], Loss: 0.4157\n",
      "Epoch [2/5], Step [1800/1875], Loss: 0.0331\n",
      "Epoch [3/5], Step [100/1875], Loss: 0.0869\n",
      "Epoch [3/5], Step [200/1875], Loss: 0.0309\n",
      "Epoch [3/5], Step [300/1875], Loss: 0.1328\n",
      "Epoch [3/5], Step [400/1875], Loss: 0.1739\n",
      "Epoch [3/5], Step [500/1875], Loss: 0.0503\n",
      "Epoch [3/5], Step [600/1875], Loss: 0.0343\n",
      "Epoch [3/5], Step [700/1875], Loss: 0.2153\n",
      "Epoch [3/5], Step [800/1875], Loss: 0.0344\n",
      "Epoch [3/5], Step [900/1875], Loss: 0.1641\n",
      "Epoch [3/5], Step [1000/1875], Loss: 0.1313\n",
      "Epoch [3/5], Step [1100/1875], Loss: 0.1480\n",
      "Epoch [3/5], Step [1200/1875], Loss: 0.1126\n",
      "Epoch [3/5], Step [1300/1875], Loss: 0.3836\n",
      "Epoch [3/5], Step [1400/1875], Loss: 0.1223\n",
      "Epoch [3/5], Step [1500/1875], Loss: 0.4626\n",
      "Epoch [3/5], Step [1600/1875], Loss: 0.0962\n",
      "Epoch [3/5], Step [1700/1875], Loss: 0.1100\n",
      "Epoch [3/5], Step [1800/1875], Loss: 0.2625\n",
      "Epoch [4/5], Step [100/1875], Loss: 0.2911\n",
      "Epoch [4/5], Step [200/1875], Loss: 0.0089\n",
      "Epoch [4/5], Step [300/1875], Loss: 0.0575\n",
      "Epoch [4/5], Step [400/1875], Loss: 0.0476\n",
      "Epoch [4/5], Step [500/1875], Loss: 0.1838\n",
      "Epoch [4/5], Step [600/1875], Loss: 0.1625\n",
      "Epoch [4/5], Step [700/1875], Loss: 0.2010\n",
      "Epoch [4/5], Step [800/1875], Loss: 0.0418\n",
      "Epoch [4/5], Step [900/1875], Loss: 0.0365\n",
      "Epoch [4/5], Step [1000/1875], Loss: 0.1754\n",
      "Epoch [4/5], Step [1100/1875], Loss: 0.0132\n",
      "Epoch [4/5], Step [1200/1875], Loss: 0.3098\n",
      "Epoch [4/5], Step [1300/1875], Loss: 0.0419\n",
      "Epoch [4/5], Step [1400/1875], Loss: 0.0599\n",
      "Epoch [4/5], Step [1500/1875], Loss: 0.0365\n",
      "Epoch [4/5], Step [1600/1875], Loss: 0.1455\n",
      "Epoch [4/5], Step [1700/1875], Loss: 0.0775\n",
      "Epoch [4/5], Step [1800/1875], Loss: 0.0104\n",
      "Epoch [5/5], Step [100/1875], Loss: 0.0628\n",
      "Epoch [5/5], Step [200/1875], Loss: 0.0347\n",
      "Epoch [5/5], Step [300/1875], Loss: 0.1206\n",
      "Epoch [5/5], Step [400/1875], Loss: 0.0103\n",
      "Epoch [5/5], Step [500/1875], Loss: 0.0122\n",
      "Epoch [5/5], Step [600/1875], Loss: 0.0335\n",
      "Epoch [5/5], Step [700/1875], Loss: 0.0807\n",
      "Epoch [5/5], Step [800/1875], Loss: 0.0238\n",
      "Epoch [5/5], Step [900/1875], Loss: 0.0246\n",
      "Epoch [5/5], Step [1000/1875], Loss: 0.0117\n",
      "Epoch [5/5], Step [1100/1875], Loss: 0.0787\n",
      "Epoch [5/5], Step [1200/1875], Loss: 0.0285\n",
      "Epoch [5/5], Step [1300/1875], Loss: 0.0240\n",
      "Epoch [5/5], Step [1400/1875], Loss: 0.0839\n",
      "Epoch [5/5], Step [1500/1875], Loss: 0.0859\n",
      "Epoch [5/5], Step [1600/1875], Loss: 0.2140\n",
      "Epoch [5/5], Step [1700/1875], Loss: 0.0860\n",
      "Epoch [5/5], Step [1800/1875], Loss: 0.0723\n",
      "Accuracy of the network on the 10000 test images: 97.5 %\n",
      "Flor wrote log records locally.\n"
     ]
    }
   ],
   "source": [
    "! python train.py --flor mySecondRun --hidden 75"
   ]
  },
  {
   "cell_type": "markdown",
   "metadata": {},
   "source": [
    "### Advanced (Optional): Batch Processing\n",
    "Alternatively, we can call `flor.batch()` from an interactive environment\n",
    "inside our model training repository, to dispatch a group of jobs that can be long-runnning:"
   ]
  },
  {
   "cell_type": "code",
   "execution_count": 7,
   "metadata": {},
   "outputs": [
    {
     "name": "stdout",
     "output_type": "stream",
     "text": [
      "--hidden 100 --lr 0.0001 \n",
      "--hidden 100 --lr 0.001 \n",
      "--hidden 200 --lr 0.0001 \n",
      "--hidden 200 --lr 0.001 \n",
      "--hidden 300 --lr 0.0001 \n",
      "--hidden 300 --lr 0.001 \n",
      "--hidden 400 --lr 0.0001 \n",
      "--hidden 400 --lr 0.001 \n",
      "--hidden 500 --lr 0.0001 \n",
      "--hidden 500 --lr 0.001 \n"
     ]
    }
   ],
   "source": [
    "import flor\n",
    "\n",
    "jobs = flor.cross_prod(hidden=[i*100 for i in range(1,6)],lr=(1e-4, 1e-3))\n",
    "assert jobs is not None\n",
    "\n",
    "flor.batch(jobs)"
   ]
  },
  {
   "cell_type": "markdown",
   "metadata": {},
   "source": [
    "Then, using a new console or terminal, we start a `flordb` server to process the batch jobs:\n",
    "```bash\n",
    "$ python -m flor serve\n",
    "```\n",
    "\n",
    "or, if we want to allocate a GPU to the flor server:\n",
    "```bash\n",
    "$ python -m flor serve 0 \n",
    "```\n",
    "(where 0 is replaced by the GPU id).\n",
    "\n",
    "You can check the progress of your jobs with the following query:"
   ]
  },
  {
   "cell_type": "code",
   "execution_count": 13,
   "metadata": {},
   "outputs": [
    {
     "name": "stdout",
     "output_type": "stream",
     "text": [
      "done|path|count(*)\n",
      "1|/Users/rogarcia/git/ml_tutorial|10\n"
     ]
    }
   ],
   "source": [
    "!sqlite3 ~/.flor/main.db -header 'select done, path, count(*) from jobs group by done, path;'"
   ]
  },
  {
   "cell_type": "markdown",
   "metadata": {},
   "source": [
    "When finished, the query will report 10 jobs marked as `done` = 1\n",
    "\n",
    "```\n",
    "done|path|count(*)\n",
    "1|/Users/rogarcia/git/ml_tutorial|10\n",
    "```\n",
    "\n",
    "You can view the updated pivot view as follows:"
   ]
  },
  {
   "cell_type": "code",
   "execution_count": 15,
   "metadata": {},
   "outputs": [
    {
     "data": {
      "text/html": [
       "<div>\n",
       "<style scoped>\n",
       "    .dataframe tbody tr th:only-of-type {\n",
       "        vertical-align: middle;\n",
       "    }\n",
       "\n",
       "    .dataframe tbody tr th {\n",
       "        vertical-align: top;\n",
       "    }\n",
       "\n",
       "    .dataframe thead th {\n",
       "        text-align: right;\n",
       "    }\n",
       "</style>\n",
       "<table border=\"1\" class=\"dataframe\">\n",
       "  <thead>\n",
       "    <tr style=\"text-align: right;\">\n",
       "      <th></th>\n",
       "      <th>projid</th>\n",
       "      <th>runid</th>\n",
       "      <th>tstamp</th>\n",
       "      <th>vid</th>\n",
       "      <th>epoch</th>\n",
       "      <th>step</th>\n",
       "      <th>loss</th>\n",
       "      <th>epochs</th>\n",
       "      <th>lr</th>\n",
       "      <th>hidden</th>\n",
       "      <th>batch_size</th>\n",
       "    </tr>\n",
       "  </thead>\n",
       "  <tbody>\n",
       "    <tr>\n",
       "      <th>0</th>\n",
       "      <td>ml_tutorial_flor.shadow.readme</td>\n",
       "      <td>myFirstRun</td>\n",
       "      <td>2023-07-20T11:51:45</td>\n",
       "      <td>b6208b62f23ff3312364f3d1a3a7ebba0425be47</td>\n",
       "      <td>1</td>\n",
       "      <td>100</td>\n",
       "      <td>0.4003249704837799</td>\n",
       "      <td>5</td>\n",
       "      <td>0.001</td>\n",
       "      <td>500</td>\n",
       "      <td>32</td>\n",
       "    </tr>\n",
       "    <tr>\n",
       "      <th>1</th>\n",
       "      <td>ml_tutorial_flor.shadow.readme</td>\n",
       "      <td>myFirstRun</td>\n",
       "      <td>2023-07-20T11:51:45</td>\n",
       "      <td>b6208b62f23ff3312364f3d1a3a7ebba0425be47</td>\n",
       "      <td>1</td>\n",
       "      <td>200</td>\n",
       "      <td>0.3539811670780182</td>\n",
       "      <td>5</td>\n",
       "      <td>0.001</td>\n",
       "      <td>500</td>\n",
       "      <td>32</td>\n",
       "    </tr>\n",
       "    <tr>\n",
       "      <th>2</th>\n",
       "      <td>ml_tutorial_flor.shadow.readme</td>\n",
       "      <td>myFirstRun</td>\n",
       "      <td>2023-07-20T11:51:45</td>\n",
       "      <td>b6208b62f23ff3312364f3d1a3a7ebba0425be47</td>\n",
       "      <td>1</td>\n",
       "      <td>300</td>\n",
       "      <td>0.49929293990135193</td>\n",
       "      <td>5</td>\n",
       "      <td>0.001</td>\n",
       "      <td>500</td>\n",
       "      <td>32</td>\n",
       "    </tr>\n",
       "    <tr>\n",
       "      <th>3</th>\n",
       "      <td>ml_tutorial_flor.shadow.readme</td>\n",
       "      <td>myFirstRun</td>\n",
       "      <td>2023-07-20T11:51:45</td>\n",
       "      <td>b6208b62f23ff3312364f3d1a3a7ebba0425be47</td>\n",
       "      <td>1</td>\n",
       "      <td>400</td>\n",
       "      <td>0.23701156675815582</td>\n",
       "      <td>5</td>\n",
       "      <td>0.001</td>\n",
       "      <td>500</td>\n",
       "      <td>32</td>\n",
       "    </tr>\n",
       "    <tr>\n",
       "      <th>4</th>\n",
       "      <td>ml_tutorial_flor.shadow.readme</td>\n",
       "      <td>myFirstRun</td>\n",
       "      <td>2023-07-20T11:51:45</td>\n",
       "      <td>b6208b62f23ff3312364f3d1a3a7ebba0425be47</td>\n",
       "      <td>1</td>\n",
       "      <td>500</td>\n",
       "      <td>0.16784034669399261</td>\n",
       "      <td>5</td>\n",
       "      <td>0.001</td>\n",
       "      <td>500</td>\n",
       "      <td>32</td>\n",
       "    </tr>\n",
       "  </tbody>\n",
       "</table>\n",
       "</div>"
      ],
      "text/plain": [
       "                           projid       runid               tstamp  \\\n",
       "0  ml_tutorial_flor.shadow.readme  myFirstRun  2023-07-20T11:51:45   \n",
       "1  ml_tutorial_flor.shadow.readme  myFirstRun  2023-07-20T11:51:45   \n",
       "2  ml_tutorial_flor.shadow.readme  myFirstRun  2023-07-20T11:51:45   \n",
       "3  ml_tutorial_flor.shadow.readme  myFirstRun  2023-07-20T11:51:45   \n",
       "4  ml_tutorial_flor.shadow.readme  myFirstRun  2023-07-20T11:51:45   \n",
       "\n",
       "                                        vid  epoch  step                 loss  \\\n",
       "0  b6208b62f23ff3312364f3d1a3a7ebba0425be47      1   100   0.4003249704837799   \n",
       "1  b6208b62f23ff3312364f3d1a3a7ebba0425be47      1   200   0.3539811670780182   \n",
       "2  b6208b62f23ff3312364f3d1a3a7ebba0425be47      1   300  0.49929293990135193   \n",
       "3  b6208b62f23ff3312364f3d1a3a7ebba0425be47      1   400  0.23701156675815582   \n",
       "4  b6208b62f23ff3312364f3d1a3a7ebba0425be47      1   500  0.16784034669399261   \n",
       "\n",
       "  epochs     lr hidden batch_size  \n",
       "0      5  0.001    500         32  \n",
       "1      5  0.001    500         32  \n",
       "2      5  0.001    500         32  \n",
       "3      5  0.001    500         32  \n",
       "4      5  0.001    500         32  "
      ]
     },
     "execution_count": 15,
     "metadata": {},
     "output_type": "execute_result"
    }
   ],
   "source": [
    "df = full_pivot(log_records())\n",
    "df.head()"
   ]
  },
  {
   "cell_type": "markdown",
   "metadata": {},
   "source": [
    "# Model Traing Kit (MTK)\n",
    "The Model Training Kit (MTK) includes utilities for serializing and checkpointing PyTorch state,\n",
    "and utilities for resuming, auto-parallelizing, and memoizing executions from checkpoint.\n",
    "\n",
    "In this context, `Flor` is an alias for `MTK`. The model developer passes objects for checkpointing to `Flor.checkpoints(*args)`,\n",
    "and gives it control over loop iterators by \n",
    "calling `Flor.loop(iterator)` as follows:"
   ]
  },
  {
   "cell_type": "code",
   "execution_count": 31,
   "metadata": {},
   "outputs": [
    {
     "name": "stdout",
     "output_type": "stream",
     "text": [
      "criterion = nn.CrossEntropyLoss()\n",
      "optimizer = torch.optim.Adam(model.parameters(), lr=learning_rate)\n",
      "\n",
      "Flor.checkpoints(model, optimizer)\n",
      "\n",
      "# Train the model\n",
      "total_step = len(train_loader)\n",
      "for epoch in Flor.loop(range(num_epochs)):\n",
      "    for i, (images, labels) in Flor.loop(enumerate(train_loader)):\n",
      "        # Move tensors to the configured device\n",
      "        images = images.reshape(-1, 28 * 28).to(device)\n",
      "        labels = labels.to(device)\n",
      "\n",
      "        # Forward pass\n",
      "        outputs = model(images)\n",
      "        loss = criterion(outputs, labels)\n",
      "\n",
      "        # Backward and optimize\n",
      "        optimizer.zero_grad()\n",
      "        loss.backward()\n",
      "        optimizer.step()\n",
      "\n",
      "        if (i + 1) % 100 == 0:\n",
      "            print(\n",
      "                \"Epoch [{}/{}], Step [{}/{}], Loss: {:.4f}\".format(\n",
      "                    epoch + 1,\n",
      "                    num_epochs,\n",
      "                    i + 1,\n",
      "                    total_step,\n"
     ]
    }
   ],
   "source": [
    "!cat train.py | grep -B 3 -A 25 Flor.checkpoints "
   ]
  },
  {
   "cell_type": "markdown",
   "metadata": {},
   "source": [
    "As shown, \n",
    "we wrap both the nested training loop and main loop with `Flor.loop` so Flor can manage their state. Flor will use loop iteration boundaries to store selected checkpoints adaptively, and on replay time use those same checkpoints to resume training from the appropriate epoch.  \n"
   ]
  },
  {
   "cell_type": "markdown",
   "metadata": {},
   "source": [
    "### Logging API\n",
    "\n",
    "You call `flor.log(name, value)` and `flor.arg(name, default=None)` to log metrics and register tune-able hyper-parameters, respectively. "
   ]
  },
  {
   "cell_type": "code",
   "execution_count": 32,
   "metadata": {},
   "outputs": [
    {
     "name": "stdout",
     "output_type": "stream",
     "text": [
      "hidden_size = flor.arg(\"hidden\", default=500)\n",
      "num_epochs = flor.arg(\"epochs\", 5)\n",
      "batch_size = flor.arg(\"batch_size\", 32)\n",
      "learning_rate = flor.arg(\"lr\", 1e-3)\n"
     ]
    }
   ],
   "source": [
    "%cat train.py | grep flor.arg"
   ]
  },
  {
   "cell_type": "code",
   "execution_count": 33,
   "metadata": {},
   "outputs": [
    {
     "name": "stdout",
     "output_type": "stream",
     "text": [
      "                    flor.log(\"loss\", loss.item()),\n"
     ]
    }
   ],
   "source": [
    "%cat train.py | grep flor.log"
   ]
  },
  {
   "cell_type": "markdown",
   "metadata": {},
   "source": [
    "The `name`(s) you use for the variables you intercept with `flor.log` and `flor.arg` will become a column (measure) in the full pivoted view (see [Viewing your exp history](#view-your-experiment-history)).\n"
   ]
  },
  {
   "cell_type": "markdown",
   "metadata": {},
   "source": [
    "# Storage & Data Layout\n",
    "On each run, Flor will:\n",
    "1. Save model checkpoints in `~/.flor/`\n",
    "1. Commit code changes, command-line args, and log records to `git`, inside a dedicated `flor.shadow` branch."
   ]
  },
  {
   "cell_type": "code",
   "execution_count": 46,
   "metadata": {},
   "outputs": [
    {
     "name": "stdout",
     "output_type": "stream",
     "text": [
      "total 424\n",
      "drwxr-xr-x   5 staff   160B Jul 20 12:20 \u001b[34m.\u001b[m\u001b[m\n",
      "drwxr-x---+ 49 staff   1.5K Jul 20 12:19 \u001b[34m..\u001b[m\u001b[m\n",
      "-rw-r--r--   1 staff    20K Jul 20 12:19 main.db\n",
      "-rw-r--r--   1 staff   176K Jul 20 12:20 ml_tutorial.db\n",
      "drwxr-xr-x  30 staff   960B Jul 20 12:21 \u001b[34mml_tutorial_flor.shadow.readme\u001b[m\u001b[m\n"
     ]
    }
   ],
   "source": [
    "! ls -lagh ~/.flor"
   ]
  },
  {
   "cell_type": "code",
   "execution_count": 48,
   "metadata": {},
   "outputs": [
    {
     "name": "stdout",
     "output_type": "stream",
     "text": [
      "/Users/rogarcia/git/ml_tutorial\n"
     ]
    },
    {
     "name": "stdout",
     "output_type": "stream",
     "text": [
      "* \u001b[32mflor.shadow.readme\u001b[m\n"
     ]
    }
   ],
   "source": [
    "! echo $(pwd)\n",
    "! git branch"
   ]
  },
  {
   "cell_type": "code",
   "execution_count": 45,
   "metadata": {},
   "outputs": [
    {
     "name": "stdout",
     "output_type": "stream",
     "text": [
      "/Users/rogarcia/git/ml_tutorial/.flor\n"
     ]
    },
    {
     "name": "stdout",
     "output_type": "stream",
     "text": [
      "total 24\n",
      "drwxr-xr-x  5 staff   160B Jul 20 12:20 \u001b[34m.\u001b[m\u001b[m\n",
      "drwxr-xr-x  9 staff   288B Jul 20 11:51 \u001b[34m..\u001b[m\u001b[m\n",
      "-rw-r--r--  1 staff   236B Jul 20 12:20 .replay.json\n",
      "-rw-r--r--  1 staff   2.8K Jul 20 12:20 log_records.csv\n",
      "-rw-r--r--  1 staff   225B Jul 20 12:20 seconds.json\n"
     ]
    }
   ],
   "source": [
    "! echo $(pwd)'/.flor'\n",
    "! ls -lagh ./.flor/"
   ]
  },
  {
   "cell_type": "markdown",
   "metadata": {},
   "source": [
    "Flor will access and interpret contents of `.flor` automatically. The data and log records will be exposed to the user via SQL or Pandas queries."
   ]
  },
  {
   "cell_type": "markdown",
   "metadata": {},
   "source": [
    "# Hindsight Logging\n",
    "\n",
    "\n",
    "Suppose you wanted to start logging the `device`\n",
    "identifier where the model is run, as well as the\n",
    "final `accuracy` after training.\n",
    "You would add the corresponding logging statements\n",
    "to `train.py`, for example:"
   ]
  },
  {
   "cell_type": "code",
   "execution_count": 52,
   "metadata": {},
   "outputs": [
    {
     "name": "stdout",
     "output_type": "stream",
     "text": [
      "from flor import MTK as Flor\n",
      "\n",
      "# Device configuration\n",
      "device = torch.device(\"cuda\" if torch.cuda.is_available() else \"cpu\")\n",
      "flor.log(\"device\", str(device))\n",
      "\n",
      "# Hyper-parameters\n",
      "input_size = 784\n",
      "hidden_size = flor.arg(\"hidden\", default=500)\n",
      "--\n",
      "                    epoch + 1,\n",
      "                    num_epochs,\n",
      "                    i + 1,\n",
      "                    total_step,\n",
      "                    flor.log(\"loss\", loss.item()),\n",
      "                )\n",
      "            )\n",
      "\n",
      "# Test the model\n",
      "--\n",
      "        correct += (predicted == labels).sum().item()\n",
      "\n",
      "    print(\n",
      "        \"Accuracy of the network on the 10000 test images: {} %\".format(\n",
      "            flor.log(\"accuracy\", 100 * correct / total)\n",
      "        )\n",
      "    )\n"
     ]
    }
   ],
   "source": [
    "%cat train.py | grep -C 4 flor.log"
   ]
  },
  {
   "cell_type": "code",
   "execution_count": 55,
   "metadata": {},
   "outputs": [
    {
     "name": "stdout",
     "output_type": "stream",
     "text": [
      "/Users/rogarcia/git/ml_tutorial\n"
     ]
    },
    {
     "name": "stdout",
     "output_type": "stream",
     "text": [
      "* \u001b[32mflor.shadow.readme\u001b[m\n",
      "[flor.shadow.readme 048e4aa] hindsight logging stmts added.\n",
      " 1 file changed, 2 insertions(+), 1 deletion(-)\n"
     ]
    }
   ],
   "source": [
    "! echo $(pwd)\n",
    "! echo $(git branch)\n",
    "! git commit -am \"hindsight logging stmts added.\""
   ]
  },
  {
   "cell_type": "markdown",
   "metadata": {},
   "source": [
    "Typically, when you add a logging statement, logging \n",
    "begins \"from now on\", and you have no visibility into the past.\n",
    "With hindsight logging, the aim is to allow model developers to send\n",
    "new logging statements back in time, and replay the past \n",
    "efficiently from checkpoint.\n",
    "\n",
    "In order to do that, we open up an interactive environent from within the `ml_tutorial` directory, and call `flor.replay()`, asking flor to apply the logging statements with the names `device` and `accuracy` to all previous versions (leave `where_clause` null in `flor.replay()`):"
   ]
  },
  {
   "cell_type": "code",
   "execution_count": 57,
   "metadata": {},
   "outputs": [
    {
     "data": {
      "text/html": [
       "<div>\n",
       "<style scoped>\n",
       "    .dataframe tbody tr th:only-of-type {\n",
       "        vertical-align: middle;\n",
       "    }\n",
       "\n",
       "    .dataframe tbody tr th {\n",
       "        vertical-align: top;\n",
       "    }\n",
       "\n",
       "    .dataframe thead th {\n",
       "        text-align: right;\n",
       "    }\n",
       "</style>\n",
       "<table border=\"1\" class=\"dataframe\">\n",
       "  <thead>\n",
       "    <tr style=\"text-align: right;\">\n",
       "      <th></th>\n",
       "      <th>projid</th>\n",
       "      <th>runid</th>\n",
       "      <th>tstamp</th>\n",
       "      <th>vid</th>\n",
       "      <th>prep_secs</th>\n",
       "      <th>eval_secs</th>\n",
       "    </tr>\n",
       "  </thead>\n",
       "  <tbody>\n",
       "    <tr>\n",
       "      <th>0</th>\n",
       "      <td>ml_tutorial_flor.shadow.readme</td>\n",
       "      <td>myFirstRun</td>\n",
       "      <td>2023-07-20T11:51:45</td>\n",
       "      <td>b6208b62f23ff3312364f3d1a3a7ebba0425be47</td>\n",
       "      <td>0.070348</td>\n",
       "      <td>0.263011</td>\n",
       "    </tr>\n",
       "    <tr>\n",
       "      <th>1</th>\n",
       "      <td>ml_tutorial_flor.shadow.readme</td>\n",
       "      <td>mySecondRun</td>\n",
       "      <td>2023-07-20T12:08:59</td>\n",
       "      <td>1b879cb426e79a472abf5e411c7e755ece63afb5</td>\n",
       "      <td>0.053751</td>\n",
       "      <td>0.214642</td>\n",
       "    </tr>\n",
       "    <tr>\n",
       "      <th>2</th>\n",
       "      <td>ml_tutorial_flor.shadow.readme</td>\n",
       "      <td>BATCH</td>\n",
       "      <td>2023-07-20T12:14:43</td>\n",
       "      <td>db531abbb7b835e95144e9def50aa3c8972ca661</td>\n",
       "      <td>0.053085</td>\n",
       "      <td>0.219996</td>\n",
       "    </tr>\n",
       "    <tr>\n",
       "      <th>3</th>\n",
       "      <td>ml_tutorial_flor.shadow.readme</td>\n",
       "      <td>BATCH</td>\n",
       "      <td>2023-07-20T12:14:55</td>\n",
       "      <td>f41341c7fce94fba1b2e18954c2ee51018d4d623</td>\n",
       "      <td>0.039456</td>\n",
       "      <td>0.236528</td>\n",
       "    </tr>\n",
       "    <tr>\n",
       "      <th>4</th>\n",
       "      <td>ml_tutorial_flor.shadow.readme</td>\n",
       "      <td>BATCH</td>\n",
       "      <td>2023-07-20T12:15:07</td>\n",
       "      <td>bef4d8266294bf84cd5328d4b34dbd9bac9d0cd8</td>\n",
       "      <td>0.041527</td>\n",
       "      <td>0.227430</td>\n",
       "    </tr>\n",
       "    <tr>\n",
       "      <th>5</th>\n",
       "      <td>ml_tutorial_flor.shadow.readme</td>\n",
       "      <td>BATCH</td>\n",
       "      <td>2023-07-20T12:15:20</td>\n",
       "      <td>0e3d04cca91e14f785aad26e58c67b90d858dee5</td>\n",
       "      <td>0.038435</td>\n",
       "      <td>0.231740</td>\n",
       "    </tr>\n",
       "    <tr>\n",
       "      <th>6</th>\n",
       "      <td>ml_tutorial_flor.shadow.readme</td>\n",
       "      <td>BATCH</td>\n",
       "      <td>2023-07-20T12:15:34</td>\n",
       "      <td>9a58e168c7519fa1f9641647ad16d2df9b38f3b3</td>\n",
       "      <td>0.042505</td>\n",
       "      <td>0.269844</td>\n",
       "    </tr>\n",
       "    <tr>\n",
       "      <th>7</th>\n",
       "      <td>ml_tutorial_flor.shadow.readme</td>\n",
       "      <td>BATCH</td>\n",
       "      <td>2023-07-20T12:15:50</td>\n",
       "      <td>41709e4b3445f5dce7a6073df04128448be634df</td>\n",
       "      <td>0.040544</td>\n",
       "      <td>0.243500</td>\n",
       "    </tr>\n",
       "    <tr>\n",
       "      <th>8</th>\n",
       "      <td>ml_tutorial_flor.shadow.readme</td>\n",
       "      <td>BATCH</td>\n",
       "      <td>2023-07-20T12:16:05</td>\n",
       "      <td>6f80a222ee2594e5fe63dc9d8d97699d3e17b235</td>\n",
       "      <td>0.038520</td>\n",
       "      <td>0.241692</td>\n",
       "    </tr>\n",
       "    <tr>\n",
       "      <th>9</th>\n",
       "      <td>ml_tutorial_flor.shadow.readme</td>\n",
       "      <td>BATCH</td>\n",
       "      <td>2023-07-20T12:16:21</td>\n",
       "      <td>edc9f4866855e7f7e3dd3d8a78d68ef1ff126e4c</td>\n",
       "      <td>0.036969</td>\n",
       "      <td>0.235917</td>\n",
       "    </tr>\n",
       "    <tr>\n",
       "      <th>10</th>\n",
       "      <td>ml_tutorial_flor.shadow.readme</td>\n",
       "      <td>BATCH</td>\n",
       "      <td>2023-07-20T12:16:38</td>\n",
       "      <td>6f4e7030d4de607a83fcb7262c6db2a829c4869d</td>\n",
       "      <td>0.055302</td>\n",
       "      <td>0.252613</td>\n",
       "    </tr>\n",
       "    <tr>\n",
       "      <th>11</th>\n",
       "      <td>ml_tutorial_flor.shadow.readme</td>\n",
       "      <td>BATCH</td>\n",
       "      <td>2023-07-20T12:16:56</td>\n",
       "      <td>942b17a0f37dd934536d8f3586917fe0c5f7de7d</td>\n",
       "      <td>0.047111</td>\n",
       "      <td>0.261450</td>\n",
       "    </tr>\n",
       "  </tbody>\n",
       "</table>\n",
       "</div>"
      ],
      "text/plain": [
       "                            projid        runid               tstamp  \\\n",
       "0   ml_tutorial_flor.shadow.readme   myFirstRun  2023-07-20T11:51:45   \n",
       "1   ml_tutorial_flor.shadow.readme  mySecondRun  2023-07-20T12:08:59   \n",
       "2   ml_tutorial_flor.shadow.readme        BATCH  2023-07-20T12:14:43   \n",
       "3   ml_tutorial_flor.shadow.readme        BATCH  2023-07-20T12:14:55   \n",
       "4   ml_tutorial_flor.shadow.readme        BATCH  2023-07-20T12:15:07   \n",
       "5   ml_tutorial_flor.shadow.readme        BATCH  2023-07-20T12:15:20   \n",
       "6   ml_tutorial_flor.shadow.readme        BATCH  2023-07-20T12:15:34   \n",
       "7   ml_tutorial_flor.shadow.readme        BATCH  2023-07-20T12:15:50   \n",
       "8   ml_tutorial_flor.shadow.readme        BATCH  2023-07-20T12:16:05   \n",
       "9   ml_tutorial_flor.shadow.readme        BATCH  2023-07-20T12:16:21   \n",
       "10  ml_tutorial_flor.shadow.readme        BATCH  2023-07-20T12:16:38   \n",
       "11  ml_tutorial_flor.shadow.readme        BATCH  2023-07-20T12:16:56   \n",
       "\n",
       "                                         vid  prep_secs  eval_secs  \n",
       "0   b6208b62f23ff3312364f3d1a3a7ebba0425be47   0.070348   0.263011  \n",
       "1   1b879cb426e79a472abf5e411c7e755ece63afb5   0.053751   0.214642  \n",
       "2   db531abbb7b835e95144e9def50aa3c8972ca661   0.053085   0.219996  \n",
       "3   f41341c7fce94fba1b2e18954c2ee51018d4d623   0.039456   0.236528  \n",
       "4   bef4d8266294bf84cd5328d4b34dbd9bac9d0cd8   0.041527   0.227430  \n",
       "5   0e3d04cca91e14f785aad26e58c67b90d858dee5   0.038435   0.231740  \n",
       "6   9a58e168c7519fa1f9641647ad16d2df9b38f3b3   0.042505   0.269844  \n",
       "7   41709e4b3445f5dce7a6073df04128448be634df   0.040544   0.243500  \n",
       "8   6f80a222ee2594e5fe63dc9d8d97699d3e17b235   0.038520   0.241692  \n",
       "9   edc9f4866855e7f7e3dd3d8a78d68ef1ff126e4c   0.036969   0.235917  \n",
       "10  6f4e7030d4de607a83fcb7262c6db2a829c4869d   0.055302   0.252613  \n",
       "11  942b17a0f37dd934536d8f3586917fe0c5f7de7d   0.047111   0.261450  "
      ]
     },
     "metadata": {},
     "output_type": "display_data"
    },
    {
     "name": "stdout",
     "output_type": "stream",
     "text": [
      "Flordb registered 12 replay jobs.\n"
     ]
    }
   ],
   "source": [
    "flor.replay(['device', 'accuracy'])"
   ]
  },
  {
   "cell_type": "markdown",
   "metadata": {},
   "source": [
    "Then, using a new console or terminal, we start a `flordb` server to process the batch jobs:\n",
    "```bash\n",
    "$ python -m flor serve\n",
    "```\n",
    "\n",
    "or, if we want to allocate a GPU to the flor server:\n",
    "```bash\n",
    "$ python -m flor serve 0 \n",
    "```\n",
    "(where 0 is replaced by the GPU id).\n",
    "\n",
    "You can check the progress of your jobs with the following query:"
   ]
  },
  {
   "cell_type": "code",
   "execution_count": 61,
   "metadata": {},
   "outputs": [
    {
     "name": "stdout",
     "output_type": "stream",
     "text": [
      "done|path|appvars|count(*)\n",
      "1|/Users/rogarcia/git/ml_tutorial|device, accuracy|24\n"
     ]
    }
   ],
   "source": [
    "!sqlite3 ~/.flor/main.db -header 'select done, path, appvars, count(*) from replay group by done, path, appvars;'"
   ]
  },
  {
   "cell_type": "markdown",
   "metadata": {},
   "source": [
    "When the process is finished, you will be able to view the values for `device` and `accuracy` for historical executions, and they will continue to be logged in subsequent iterations:"
   ]
  },
  {
   "cell_type": "code",
   "execution_count": 65,
   "metadata": {},
   "outputs": [
    {
     "data": {
      "text/html": [
       "<div>\n",
       "<style scoped>\n",
       "    .dataframe tbody tr th:only-of-type {\n",
       "        vertical-align: middle;\n",
       "    }\n",
       "\n",
       "    .dataframe tbody tr th {\n",
       "        vertical-align: top;\n",
       "    }\n",
       "\n",
       "    .dataframe thead th {\n",
       "        text-align: right;\n",
       "    }\n",
       "</style>\n",
       "<table border=\"1\" class=\"dataframe\">\n",
       "  <thead>\n",
       "    <tr style=\"text-align: right;\">\n",
       "      <th></th>\n",
       "      <th>projid</th>\n",
       "      <th>runid</th>\n",
       "      <th>tstamp</th>\n",
       "      <th>vid</th>\n",
       "      <th>epoch</th>\n",
       "      <th>step</th>\n",
       "      <th>loss</th>\n",
       "      <th>epochs</th>\n",
       "      <th>accuracy</th>\n",
       "      <th>lr</th>\n",
       "      <th>hidden</th>\n",
       "      <th>batch_size</th>\n",
       "      <th>device</th>\n",
       "    </tr>\n",
       "  </thead>\n",
       "  <tbody>\n",
       "    <tr>\n",
       "      <th>0</th>\n",
       "      <td>ml_tutorial_flor.shadow.readme</td>\n",
       "      <td>myFirstRun</td>\n",
       "      <td>2023-07-20T11:51:45</td>\n",
       "      <td>b6208b62f23ff3312364f3d1a3a7ebba0425be47</td>\n",
       "      <td>1</td>\n",
       "      <td>100</td>\n",
       "      <td>0.4003249704837799</td>\n",
       "      <td>5</td>\n",
       "      <td>97.87</td>\n",
       "      <td>0.001</td>\n",
       "      <td>500</td>\n",
       "      <td>32</td>\n",
       "      <td>cpu</td>\n",
       "    </tr>\n",
       "    <tr>\n",
       "      <th>1</th>\n",
       "      <td>ml_tutorial_flor.shadow.readme</td>\n",
       "      <td>myFirstRun</td>\n",
       "      <td>2023-07-20T11:51:45</td>\n",
       "      <td>b6208b62f23ff3312364f3d1a3a7ebba0425be47</td>\n",
       "      <td>1</td>\n",
       "      <td>200</td>\n",
       "      <td>0.3539811670780182</td>\n",
       "      <td>5</td>\n",
       "      <td>97.87</td>\n",
       "      <td>0.001</td>\n",
       "      <td>500</td>\n",
       "      <td>32</td>\n",
       "      <td>cpu</td>\n",
       "    </tr>\n",
       "    <tr>\n",
       "      <th>2</th>\n",
       "      <td>ml_tutorial_flor.shadow.readme</td>\n",
       "      <td>myFirstRun</td>\n",
       "      <td>2023-07-20T11:51:45</td>\n",
       "      <td>b6208b62f23ff3312364f3d1a3a7ebba0425be47</td>\n",
       "      <td>1</td>\n",
       "      <td>300</td>\n",
       "      <td>0.49929293990135193</td>\n",
       "      <td>5</td>\n",
       "      <td>97.87</td>\n",
       "      <td>0.001</td>\n",
       "      <td>500</td>\n",
       "      <td>32</td>\n",
       "      <td>cpu</td>\n",
       "    </tr>\n",
       "    <tr>\n",
       "      <th>3</th>\n",
       "      <td>ml_tutorial_flor.shadow.readme</td>\n",
       "      <td>myFirstRun</td>\n",
       "      <td>2023-07-20T11:51:45</td>\n",
       "      <td>b6208b62f23ff3312364f3d1a3a7ebba0425be47</td>\n",
       "      <td>1</td>\n",
       "      <td>400</td>\n",
       "      <td>0.23701156675815582</td>\n",
       "      <td>5</td>\n",
       "      <td>97.87</td>\n",
       "      <td>0.001</td>\n",
       "      <td>500</td>\n",
       "      <td>32</td>\n",
       "      <td>cpu</td>\n",
       "    </tr>\n",
       "    <tr>\n",
       "      <th>4</th>\n",
       "      <td>ml_tutorial_flor.shadow.readme</td>\n",
       "      <td>myFirstRun</td>\n",
       "      <td>2023-07-20T11:51:45</td>\n",
       "      <td>b6208b62f23ff3312364f3d1a3a7ebba0425be47</td>\n",
       "      <td>1</td>\n",
       "      <td>500</td>\n",
       "      <td>0.16784034669399261</td>\n",
       "      <td>5</td>\n",
       "      <td>97.87</td>\n",
       "      <td>0.001</td>\n",
       "      <td>500</td>\n",
       "      <td>32</td>\n",
       "      <td>cpu</td>\n",
       "    </tr>\n",
       "  </tbody>\n",
       "</table>\n",
       "</div>"
      ],
      "text/plain": [
       "                           projid       runid               tstamp  \\\n",
       "0  ml_tutorial_flor.shadow.readme  myFirstRun  2023-07-20T11:51:45   \n",
       "1  ml_tutorial_flor.shadow.readme  myFirstRun  2023-07-20T11:51:45   \n",
       "2  ml_tutorial_flor.shadow.readme  myFirstRun  2023-07-20T11:51:45   \n",
       "3  ml_tutorial_flor.shadow.readme  myFirstRun  2023-07-20T11:51:45   \n",
       "4  ml_tutorial_flor.shadow.readme  myFirstRun  2023-07-20T11:51:45   \n",
       "\n",
       "                                        vid  epoch  step                 loss  \\\n",
       "0  b6208b62f23ff3312364f3d1a3a7ebba0425be47      1   100   0.4003249704837799   \n",
       "1  b6208b62f23ff3312364f3d1a3a7ebba0425be47      1   200   0.3539811670780182   \n",
       "2  b6208b62f23ff3312364f3d1a3a7ebba0425be47      1   300  0.49929293990135193   \n",
       "3  b6208b62f23ff3312364f3d1a3a7ebba0425be47      1   400  0.23701156675815582   \n",
       "4  b6208b62f23ff3312364f3d1a3a7ebba0425be47      1   500  0.16784034669399261   \n",
       "\n",
       "  epochs accuracy     lr hidden batch_size device  \n",
       "0      5    97.87  0.001    500         32    cpu  \n",
       "1      5    97.87  0.001    500         32    cpu  \n",
       "2      5    97.87  0.001    500         32    cpu  \n",
       "3      5    97.87  0.001    500         32    cpu  \n",
       "4      5    97.87  0.001    500         32    cpu  "
      ]
     },
     "execution_count": 65,
     "metadata": {},
     "output_type": "execute_result"
    }
   ],
   "source": [
    "from flor import full_pivot, log_records\n",
    "df = full_pivot(log_records())\n",
    "df.head()"
   ]
  },
  {
   "cell_type": "code",
   "execution_count": 67,
   "metadata": {},
   "outputs": [
    {
     "data": {
      "text/html": [
       "<div>\n",
       "<style scoped>\n",
       "    .dataframe tbody tr th:only-of-type {\n",
       "        vertical-align: middle;\n",
       "    }\n",
       "\n",
       "    .dataframe tbody tr th {\n",
       "        vertical-align: top;\n",
       "    }\n",
       "\n",
       "    .dataframe thead th {\n",
       "        text-align: right;\n",
       "    }\n",
       "</style>\n",
       "<table border=\"1\" class=\"dataframe\">\n",
       "  <thead>\n",
       "    <tr style=\"text-align: right;\">\n",
       "      <th></th>\n",
       "      <th>projid</th>\n",
       "      <th>runid</th>\n",
       "      <th>tstamp</th>\n",
       "      <th>vid</th>\n",
       "      <th>device</th>\n",
       "      <th>accuracy</th>\n",
       "    </tr>\n",
       "  </thead>\n",
       "  <tbody>\n",
       "    <tr>\n",
       "      <th>0</th>\n",
       "      <td>ml_tutorial_flor.shadow.readme</td>\n",
       "      <td>myFirstRun</td>\n",
       "      <td>2023-07-20T11:51:45</td>\n",
       "      <td>b6208b62f23ff3312364f3d1a3a7ebba0425be47</td>\n",
       "      <td>cpu</td>\n",
       "      <td>97.87</td>\n",
       "    </tr>\n",
       "    <tr>\n",
       "      <th>90</th>\n",
       "      <td>ml_tutorial_flor.shadow.readme</td>\n",
       "      <td>mySecondRun</td>\n",
       "      <td>2023-07-20T12:08:59</td>\n",
       "      <td>1b879cb426e79a472abf5e411c7e755ece63afb5</td>\n",
       "      <td>cpu</td>\n",
       "      <td>97.5</td>\n",
       "    </tr>\n",
       "    <tr>\n",
       "      <th>180</th>\n",
       "      <td>ml_tutorial_flor.shadow.readme</td>\n",
       "      <td>BATCH</td>\n",
       "      <td>2023-07-20T12:14:43</td>\n",
       "      <td>db531abbb7b835e95144e9def50aa3c8972ca661</td>\n",
       "      <td>cpu</td>\n",
       "      <td>93.96</td>\n",
       "    </tr>\n",
       "    <tr>\n",
       "      <th>270</th>\n",
       "      <td>ml_tutorial_flor.shadow.readme</td>\n",
       "      <td>BATCH</td>\n",
       "      <td>2023-07-20T12:14:55</td>\n",
       "      <td>f41341c7fce94fba1b2e18954c2ee51018d4d623</td>\n",
       "      <td>cpu</td>\n",
       "      <td>97.29</td>\n",
       "    </tr>\n",
       "    <tr>\n",
       "      <th>360</th>\n",
       "      <td>ml_tutorial_flor.shadow.readme</td>\n",
       "      <td>BATCH</td>\n",
       "      <td>2023-07-20T12:15:07</td>\n",
       "      <td>bef4d8266294bf84cd5328d4b34dbd9bac9d0cd8</td>\n",
       "      <td>cpu</td>\n",
       "      <td>95.07</td>\n",
       "    </tr>\n",
       "    <tr>\n",
       "      <th>450</th>\n",
       "      <td>ml_tutorial_flor.shadow.readme</td>\n",
       "      <td>BATCH</td>\n",
       "      <td>2023-07-20T12:15:20</td>\n",
       "      <td>0e3d04cca91e14f785aad26e58c67b90d858dee5</td>\n",
       "      <td>cpu</td>\n",
       "      <td>97.58</td>\n",
       "    </tr>\n",
       "    <tr>\n",
       "      <th>540</th>\n",
       "      <td>ml_tutorial_flor.shadow.readme</td>\n",
       "      <td>BATCH</td>\n",
       "      <td>2023-07-20T12:15:34</td>\n",
       "      <td>9a58e168c7519fa1f9641647ad16d2df9b38f3b3</td>\n",
       "      <td>cpu</td>\n",
       "      <td>95.37</td>\n",
       "    </tr>\n",
       "    <tr>\n",
       "      <th>630</th>\n",
       "      <td>ml_tutorial_flor.shadow.readme</td>\n",
       "      <td>BATCH</td>\n",
       "      <td>2023-07-20T12:15:50</td>\n",
       "      <td>41709e4b3445f5dce7a6073df04128448be634df</td>\n",
       "      <td>cpu</td>\n",
       "      <td>97.84</td>\n",
       "    </tr>\n",
       "    <tr>\n",
       "      <th>720</th>\n",
       "      <td>ml_tutorial_flor.shadow.readme</td>\n",
       "      <td>BATCH</td>\n",
       "      <td>2023-07-20T12:16:05</td>\n",
       "      <td>6f80a222ee2594e5fe63dc9d8d97699d3e17b235</td>\n",
       "      <td>cpu</td>\n",
       "      <td>95.9</td>\n",
       "    </tr>\n",
       "    <tr>\n",
       "      <th>810</th>\n",
       "      <td>ml_tutorial_flor.shadow.readme</td>\n",
       "      <td>BATCH</td>\n",
       "      <td>2023-07-20T12:16:21</td>\n",
       "      <td>edc9f4866855e7f7e3dd3d8a78d68ef1ff126e4c</td>\n",
       "      <td>cpu</td>\n",
       "      <td>97.83</td>\n",
       "    </tr>\n",
       "    <tr>\n",
       "      <th>900</th>\n",
       "      <td>ml_tutorial_flor.shadow.readme</td>\n",
       "      <td>BATCH</td>\n",
       "      <td>2023-07-20T12:16:38</td>\n",
       "      <td>6f4e7030d4de607a83fcb7262c6db2a829c4869d</td>\n",
       "      <td>cpu</td>\n",
       "      <td>96.15</td>\n",
       "    </tr>\n",
       "    <tr>\n",
       "      <th>990</th>\n",
       "      <td>ml_tutorial_flor.shadow.readme</td>\n",
       "      <td>BATCH</td>\n",
       "      <td>2023-07-20T12:16:56</td>\n",
       "      <td>942b17a0f37dd934536d8f3586917fe0c5f7de7d</td>\n",
       "      <td>cpu</td>\n",
       "      <td>97.94</td>\n",
       "    </tr>\n",
       "  </tbody>\n",
       "</table>\n",
       "</div>"
      ],
      "text/plain": [
       "                             projid        runid               tstamp  \\\n",
       "0    ml_tutorial_flor.shadow.readme   myFirstRun  2023-07-20T11:51:45   \n",
       "90   ml_tutorial_flor.shadow.readme  mySecondRun  2023-07-20T12:08:59   \n",
       "180  ml_tutorial_flor.shadow.readme        BATCH  2023-07-20T12:14:43   \n",
       "270  ml_tutorial_flor.shadow.readme        BATCH  2023-07-20T12:14:55   \n",
       "360  ml_tutorial_flor.shadow.readme        BATCH  2023-07-20T12:15:07   \n",
       "450  ml_tutorial_flor.shadow.readme        BATCH  2023-07-20T12:15:20   \n",
       "540  ml_tutorial_flor.shadow.readme        BATCH  2023-07-20T12:15:34   \n",
       "630  ml_tutorial_flor.shadow.readme        BATCH  2023-07-20T12:15:50   \n",
       "720  ml_tutorial_flor.shadow.readme        BATCH  2023-07-20T12:16:05   \n",
       "810  ml_tutorial_flor.shadow.readme        BATCH  2023-07-20T12:16:21   \n",
       "900  ml_tutorial_flor.shadow.readme        BATCH  2023-07-20T12:16:38   \n",
       "990  ml_tutorial_flor.shadow.readme        BATCH  2023-07-20T12:16:56   \n",
       "\n",
       "                                          vid device accuracy  \n",
       "0    b6208b62f23ff3312364f3d1a3a7ebba0425be47    cpu    97.87  \n",
       "90   1b879cb426e79a472abf5e411c7e755ece63afb5    cpu     97.5  \n",
       "180  db531abbb7b835e95144e9def50aa3c8972ca661    cpu    93.96  \n",
       "270  f41341c7fce94fba1b2e18954c2ee51018d4d623    cpu    97.29  \n",
       "360  bef4d8266294bf84cd5328d4b34dbd9bac9d0cd8    cpu    95.07  \n",
       "450  0e3d04cca91e14f785aad26e58c67b90d858dee5    cpu    97.58  \n",
       "540  9a58e168c7519fa1f9641647ad16d2df9b38f3b3    cpu    95.37  \n",
       "630  41709e4b3445f5dce7a6073df04128448be634df    cpu    97.84  \n",
       "720  6f80a222ee2594e5fe63dc9d8d97699d3e17b235    cpu     95.9  \n",
       "810  edc9f4866855e7f7e3dd3d8a78d68ef1ff126e4c    cpu    97.83  \n",
       "900  6f4e7030d4de607a83fcb7262c6db2a829c4869d    cpu    96.15  \n",
       "990  942b17a0f37dd934536d8f3586917fe0c5f7de7d    cpu    97.94  "
      ]
     },
     "execution_count": 67,
     "metadata": {},
     "output_type": "execute_result"
    }
   ],
   "source": [
    "df[list(flor.DATA_PREP) + ['device', 'accuracy']].drop_duplicates()"
   ]
  },
  {
   "cell_type": "markdown",
   "metadata": {},
   "source": [
    "Note the new columns `device` and `accuracy` that are backfilled."
   ]
  },
  {
   "cell_type": "markdown",
   "metadata": {},
   "source": [
    "## Publications\n",
    "\n",
    "To cite this work, please refer to the [Hindsight Logging](http://www.vldb.org/pvldb/vol14/p682-garcia.pdf) paper (VLDB '21).\n",
    "\n",
    "FLOR is open source software developed at UC Berkeley. \n",
    "[Joe Hellerstein](https://dsf.berkeley.edu/jmh/) (databases), [Joey Gonzalez](http://people.eecs.berkeley.edu/~jegonzal/) (machine learning), and [Koushik Sen](https://people.eecs.berkeley.edu/~ksen) (programming languages) \n",
    "are the primary faculty members leading this work.\n",
    "\n",
    "This work is released as part of [Rolando Garcia](https://rlnsanz.github.io/)'s doctoral dissertation at UC Berkeley,\n",
    "and has been the subject of study by Eric Liu and Anusha Dandamudi, \n",
    "both of whom completed their master's theses on FLOR.\n",
    "Our list of publications are reproduced below.\n",
    "Finally, we thank [Vikram Sreekanti](https://www.vikrams.io/), [Dan Crankshaw](https://dancrankshaw.com/), and [Neeraja Yadwadkar](https://cs.stanford.edu/~neeraja/) for guidance, comments, and advice.\n",
    "[Bobby Yan](https://bobbyy.org/) was instrumental in the development of FLOR and its corresponding experimental evaluation.\n",
    "\n",
    "* [Hindsight Logging for Model Training](http://www.vldb.org/pvldb/vol14/p682-garcia.pdf). _R Garcia, E Liu, V Sreekanti, B Yan, A Dandamudi, JE Gonzalez, JM Hellerstein, K Sen_. The VLDB Journal, 2021.\n",
    "* [Fast Low-Overhead Logging Extending Time](https://www2.eecs.berkeley.edu/Pubs/TechRpts/2021/EECS-2021-117.html). _A Dandamudi_. EECS Department, UC Berkeley Technical Report, 2021.\n",
    "* [Low Overhead Materialization with FLOR](https://www2.eecs.berkeley.edu/Pubs/TechRpts/2020/EECS-2020-79.html). _E Liu_. EECS Department, UC Berkeley Technical Report, 2020. \n",
    "\n",
    "\n",
    "## License\n",
    "FLOR is licensed under the [Apache v2 License](https://www.apache.org/licenses/LICENSE-2.0).\n"
   ]
  }
 ],
 "metadata": {
  "kernelspec": {
   "display_name": "base",
   "language": "python",
   "name": "python3"
  },
  "language_info": {
   "codemirror_mode": {
    "name": "ipython",
    "version": 3
   },
   "file_extension": ".py",
   "mimetype": "text/x-python",
   "name": "python",
   "nbconvert_exporter": "python",
   "pygments_lexer": "ipython3",
   "version": "3.9.13"
  },
  "orig_nbformat": 4
 },
 "nbformat": 4,
 "nbformat_minor": 2
}
