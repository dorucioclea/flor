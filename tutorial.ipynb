{
 "cells": [
  {
   "cell_type": "markdown",
   "metadata": {},
   "source": [
    "# Installation"
   ]
  },
  {
   "cell_type": "code",
   "execution_count": null,
   "metadata": {},
   "outputs": [],
   "source": [
    "! pip install flordb"
   ]
  },
  {
   "cell_type": "markdown",
   "metadata": {},
   "source": [
    "# Getting Started\n",
    "\n",
    "We start by selecting (or creating) a `git` repository to save our model training code as we iterate and experiment. Flor automatically commits your changes on every run, so no change is lost. Below we provide a sample repository you can use to follow along:"
   ]
  },
  {
   "cell_type": "code",
   "execution_count": null,
   "metadata": {},
   "outputs": [],
   "source": [
    "!git clone git@github.com:ucbepic/ml_tutorial ../ml_tutorial"
   ]
  },
  {
   "cell_type": "code",
   "execution_count": 2,
   "metadata": {},
   "outputs": [],
   "source": [
    "import os\n",
    "os.chdir('../ml_tutorial/')"
   ]
  },
  {
   "cell_type": "markdown",
   "metadata": {},
   "source": [
    "Run the `train.py` script to train a small linear model, \n",
    "and test your `flordb` installation."
   ]
  },
  {
   "cell_type": "code",
   "execution_count": null,
   "metadata": {},
   "outputs": [],
   "source": [
    "! python train.py --flor myFirstRun"
   ]
  },
  {
   "cell_type": "markdown",
   "metadata": {},
   "source": [
    "Flor will manage checkpoints, logs, command-line arguments, code changes, and other experiment metadata on each run (More details [below](#storage--data-layout)). All of this data is then expesed to the user via SQL or Pandas queries.\n"
   ]
  },
  {
   "cell_type": "markdown",
   "metadata": {},
   "source": [
    "# View your experiment history\n",
    "From the same directory you ran the examples above, open an iPython terminal, then load and pivot the log records.\n"
   ]
  },
  {
   "cell_type": "code",
   "execution_count": 3,
   "metadata": {},
   "outputs": [
    {
     "name": "stdout",
     "output_type": "stream",
     "text": [
      "STEPPING IN b6208b62f23ff3312364f3d1a3a7ebba0425be47\n"
     ]
    },
    {
     "data": {
      "text/html": [
       "<div>\n",
       "<style scoped>\n",
       "    .dataframe tbody tr th:only-of-type {\n",
       "        vertical-align: middle;\n",
       "    }\n",
       "\n",
       "    .dataframe tbody tr th {\n",
       "        vertical-align: top;\n",
       "    }\n",
       "\n",
       "    .dataframe thead th {\n",
       "        text-align: right;\n",
       "    }\n",
       "</style>\n",
       "<table border=\"1\" class=\"dataframe\">\n",
       "  <thead>\n",
       "    <tr style=\"text-align: right;\">\n",
       "      <th></th>\n",
       "      <th>projid</th>\n",
       "      <th>runid</th>\n",
       "      <th>tstamp</th>\n",
       "      <th>vid</th>\n",
       "      <th>epoch</th>\n",
       "      <th>step</th>\n",
       "      <th>loss</th>\n",
       "      <th>epochs</th>\n",
       "      <th>lr</th>\n",
       "      <th>hidden</th>\n",
       "      <th>batch_size</th>\n",
       "    </tr>\n",
       "  </thead>\n",
       "  <tbody>\n",
       "    <tr>\n",
       "      <th>0</th>\n",
       "      <td>ml_tutorial_flor.shadow.readme</td>\n",
       "      <td>myFirstRun</td>\n",
       "      <td>2023-07-20T11:51:45</td>\n",
       "      <td>b6208b62f23ff3312364f3d1a3a7ebba0425be47</td>\n",
       "      <td>1</td>\n",
       "      <td>100</td>\n",
       "      <td>0.4003249704837799</td>\n",
       "      <td>5</td>\n",
       "      <td>0.001</td>\n",
       "      <td>500</td>\n",
       "      <td>32</td>\n",
       "    </tr>\n",
       "    <tr>\n",
       "      <th>1</th>\n",
       "      <td>ml_tutorial_flor.shadow.readme</td>\n",
       "      <td>myFirstRun</td>\n",
       "      <td>2023-07-20T11:51:45</td>\n",
       "      <td>b6208b62f23ff3312364f3d1a3a7ebba0425be47</td>\n",
       "      <td>1</td>\n",
       "      <td>200</td>\n",
       "      <td>0.3539811670780182</td>\n",
       "      <td>5</td>\n",
       "      <td>0.001</td>\n",
       "      <td>500</td>\n",
       "      <td>32</td>\n",
       "    </tr>\n",
       "    <tr>\n",
       "      <th>2</th>\n",
       "      <td>ml_tutorial_flor.shadow.readme</td>\n",
       "      <td>myFirstRun</td>\n",
       "      <td>2023-07-20T11:51:45</td>\n",
       "      <td>b6208b62f23ff3312364f3d1a3a7ebba0425be47</td>\n",
       "      <td>1</td>\n",
       "      <td>300</td>\n",
       "      <td>0.49929293990135193</td>\n",
       "      <td>5</td>\n",
       "      <td>0.001</td>\n",
       "      <td>500</td>\n",
       "      <td>32</td>\n",
       "    </tr>\n",
       "    <tr>\n",
       "      <th>3</th>\n",
       "      <td>ml_tutorial_flor.shadow.readme</td>\n",
       "      <td>myFirstRun</td>\n",
       "      <td>2023-07-20T11:51:45</td>\n",
       "      <td>b6208b62f23ff3312364f3d1a3a7ebba0425be47</td>\n",
       "      <td>1</td>\n",
       "      <td>400</td>\n",
       "      <td>0.23701156675815582</td>\n",
       "      <td>5</td>\n",
       "      <td>0.001</td>\n",
       "      <td>500</td>\n",
       "      <td>32</td>\n",
       "    </tr>\n",
       "    <tr>\n",
       "      <th>4</th>\n",
       "      <td>ml_tutorial_flor.shadow.readme</td>\n",
       "      <td>myFirstRun</td>\n",
       "      <td>2023-07-20T11:51:45</td>\n",
       "      <td>b6208b62f23ff3312364f3d1a3a7ebba0425be47</td>\n",
       "      <td>1</td>\n",
       "      <td>500</td>\n",
       "      <td>0.16784034669399261</td>\n",
       "      <td>5</td>\n",
       "      <td>0.001</td>\n",
       "      <td>500</td>\n",
       "      <td>32</td>\n",
       "    </tr>\n",
       "  </tbody>\n",
       "</table>\n",
       "</div>"
      ],
      "text/plain": [
       "                           projid       runid               tstamp  \\\n",
       "0  ml_tutorial_flor.shadow.readme  myFirstRun  2023-07-20T11:51:45   \n",
       "1  ml_tutorial_flor.shadow.readme  myFirstRun  2023-07-20T11:51:45   \n",
       "2  ml_tutorial_flor.shadow.readme  myFirstRun  2023-07-20T11:51:45   \n",
       "3  ml_tutorial_flor.shadow.readme  myFirstRun  2023-07-20T11:51:45   \n",
       "4  ml_tutorial_flor.shadow.readme  myFirstRun  2023-07-20T11:51:45   \n",
       "\n",
       "                                        vid  epoch  step                 loss  \\\n",
       "0  b6208b62f23ff3312364f3d1a3a7ebba0425be47      1   100   0.4003249704837799   \n",
       "1  b6208b62f23ff3312364f3d1a3a7ebba0425be47      1   200   0.3539811670780182   \n",
       "2  b6208b62f23ff3312364f3d1a3a7ebba0425be47      1   300  0.49929293990135193   \n",
       "3  b6208b62f23ff3312364f3d1a3a7ebba0425be47      1   400  0.23701156675815582   \n",
       "4  b6208b62f23ff3312364f3d1a3a7ebba0425be47      1   500  0.16784034669399261   \n",
       "\n",
       "  epochs     lr hidden batch_size  \n",
       "0      5  0.001    500         32  \n",
       "1      5  0.001    500         32  \n",
       "2      5  0.001    500         32  \n",
       "3      5  0.001    500         32  \n",
       "4      5  0.001    500         32  "
      ]
     },
     "execution_count": 3,
     "metadata": {},
     "output_type": "execute_result"
    }
   ],
   "source": [
    "from flor import full_pivot, log_records\n",
    "df = full_pivot(log_records())\n",
    "\n",
    "df.head()"
   ]
  },
  {
   "cell_type": "markdown",
   "metadata": {},
   "source": [
    "# Run some more experiments\n",
    "The `train.py` script has been prepared in advance to define and manage four different hyper-parameters:"
   ]
  },
  {
   "cell_type": "code",
   "execution_count": 4,
   "metadata": {},
   "outputs": [
    {
     "name": "stdout",
     "output_type": "stream",
     "text": [
      "hidden_size = flor.arg(\"hidden\", default=500)\n",
      "num_epochs = flor.arg(\"epochs\", 5)\n",
      "batch_size = flor.arg(\"batch_size\", 32)\n",
      "learning_rate = flor.arg(\"lr\", 1e-3)\n"
     ]
    }
   ],
   "source": [
    "%cat train.py | grep flor.arg"
   ]
  },
  {
   "cell_type": "markdown",
   "metadata": {},
   "source": [
    "You can control any of the hyper-parameters (e.g. `hidden`) using Flor's command-line interface:"
   ]
  },
  {
   "cell_type": "code",
   "execution_count": 6,
   "metadata": {},
   "outputs": [
    {
     "name": "stdout",
     "output_type": "stream",
     "text": [
      "Epoch [1/5], Step [100/1875], Loss: 0.7720\n",
      "Epoch [1/5], Step [200/1875], Loss: 0.5216\n",
      "Epoch [1/5], Step [300/1875], Loss: 0.2941\n",
      "Epoch [1/5], Step [400/1875], Loss: 0.3155\n",
      "Epoch [1/5], Step [500/1875], Loss: 0.5852\n",
      "Epoch [1/5], Step [600/1875], Loss: 0.3453\n",
      "Epoch [1/5], Step [700/1875], Loss: 0.1697\n",
      "Epoch [1/5], Step [800/1875], Loss: 0.2625\n",
      "Epoch [1/5], Step [900/1875], Loss: 0.2256\n",
      "Epoch [1/5], Step [1000/1875], Loss: 0.3984\n",
      "Epoch [1/5], Step [1100/1875], Loss: 0.6364\n",
      "Epoch [1/5], Step [1200/1875], Loss: 0.3515\n",
      "Epoch [1/5], Step [1300/1875], Loss: 0.1398\n",
      "Epoch [1/5], Step [1400/1875], Loss: 0.1809\n",
      "Epoch [1/5], Step [1500/1875], Loss: 0.2526\n",
      "Epoch [1/5], Step [1600/1875], Loss: 0.0254\n",
      "Epoch [1/5], Step [1700/1875], Loss: 0.0561\n",
      "Epoch [1/5], Step [1800/1875], Loss: 0.0543\n",
      "Epoch [2/5], Step [100/1875], Loss: 0.0632\n",
      "Epoch [2/5], Step [200/1875], Loss: 0.2124\n",
      "Epoch [2/5], Step [300/1875], Loss: 0.1795\n",
      "Epoch [2/5], Step [400/1875], Loss: 0.1249\n",
      "Epoch [2/5], Step [500/1875], Loss: 0.0871\n",
      "Epoch [2/5], Step [600/1875], Loss: 0.1251\n",
      "Epoch [2/5], Step [700/1875], Loss: 0.1483\n",
      "Epoch [2/5], Step [800/1875], Loss: 0.2249\n",
      "Epoch [2/5], Step [900/1875], Loss: 0.0948\n",
      "Epoch [2/5], Step [1000/1875], Loss: 0.0466\n",
      "Epoch [2/5], Step [1100/1875], Loss: 0.1522\n",
      "Epoch [2/5], Step [1200/1875], Loss: 0.1461\n",
      "Epoch [2/5], Step [1300/1875], Loss: 0.0428\n",
      "Epoch [2/5], Step [1400/1875], Loss: 0.0927\n",
      "Epoch [2/5], Step [1500/1875], Loss: 0.0679\n",
      "Epoch [2/5], Step [1600/1875], Loss: 0.1865\n",
      "Epoch [2/5], Step [1700/1875], Loss: 0.4157\n",
      "Epoch [2/5], Step [1800/1875], Loss: 0.0331\n",
      "Epoch [3/5], Step [100/1875], Loss: 0.0869\n",
      "Epoch [3/5], Step [200/1875], Loss: 0.0309\n",
      "Epoch [3/5], Step [300/1875], Loss: 0.1328\n",
      "Epoch [3/5], Step [400/1875], Loss: 0.1739\n",
      "Epoch [3/5], Step [500/1875], Loss: 0.0503\n",
      "Epoch [3/5], Step [600/1875], Loss: 0.0343\n",
      "Epoch [3/5], Step [700/1875], Loss: 0.2153\n",
      "Epoch [3/5], Step [800/1875], Loss: 0.0344\n",
      "Epoch [3/5], Step [900/1875], Loss: 0.1641\n",
      "Epoch [3/5], Step [1000/1875], Loss: 0.1313\n",
      "Epoch [3/5], Step [1100/1875], Loss: 0.1480\n",
      "Epoch [3/5], Step [1200/1875], Loss: 0.1126\n",
      "Epoch [3/5], Step [1300/1875], Loss: 0.3836\n",
      "Epoch [3/5], Step [1400/1875], Loss: 0.1223\n",
      "Epoch [3/5], Step [1500/1875], Loss: 0.4626\n",
      "Epoch [3/5], Step [1600/1875], Loss: 0.0962\n",
      "Epoch [3/5], Step [1700/1875], Loss: 0.1100\n",
      "Epoch [3/5], Step [1800/1875], Loss: 0.2625\n",
      "Epoch [4/5], Step [100/1875], Loss: 0.2911\n",
      "Epoch [4/5], Step [200/1875], Loss: 0.0089\n",
      "Epoch [4/5], Step [300/1875], Loss: 0.0575\n",
      "Epoch [4/5], Step [400/1875], Loss: 0.0476\n",
      "Epoch [4/5], Step [500/1875], Loss: 0.1838\n",
      "Epoch [4/5], Step [600/1875], Loss: 0.1625\n",
      "Epoch [4/5], Step [700/1875], Loss: 0.2010\n",
      "Epoch [4/5], Step [800/1875], Loss: 0.0418\n",
      "Epoch [4/5], Step [900/1875], Loss: 0.0365\n",
      "Epoch [4/5], Step [1000/1875], Loss: 0.1754\n",
      "Epoch [4/5], Step [1100/1875], Loss: 0.0132\n",
      "Epoch [4/5], Step [1200/1875], Loss: 0.3098\n",
      "Epoch [4/5], Step [1300/1875], Loss: 0.0419\n",
      "Epoch [4/5], Step [1400/1875], Loss: 0.0599\n",
      "Epoch [4/5], Step [1500/1875], Loss: 0.0365\n",
      "Epoch [4/5], Step [1600/1875], Loss: 0.1455\n",
      "Epoch [4/5], Step [1700/1875], Loss: 0.0775\n",
      "Epoch [4/5], Step [1800/1875], Loss: 0.0104\n",
      "Epoch [5/5], Step [100/1875], Loss: 0.0628\n",
      "Epoch [5/5], Step [200/1875], Loss: 0.0347\n",
      "Epoch [5/5], Step [300/1875], Loss: 0.1206\n",
      "Epoch [5/5], Step [400/1875], Loss: 0.0103\n",
      "Epoch [5/5], Step [500/1875], Loss: 0.0122\n",
      "Epoch [5/5], Step [600/1875], Loss: 0.0335\n",
      "Epoch [5/5], Step [700/1875], Loss: 0.0807\n",
      "Epoch [5/5], Step [800/1875], Loss: 0.0238\n",
      "Epoch [5/5], Step [900/1875], Loss: 0.0246\n",
      "Epoch [5/5], Step [1000/1875], Loss: 0.0117\n",
      "Epoch [5/5], Step [1100/1875], Loss: 0.0787\n",
      "Epoch [5/5], Step [1200/1875], Loss: 0.0285\n",
      "Epoch [5/5], Step [1300/1875], Loss: 0.0240\n",
      "Epoch [5/5], Step [1400/1875], Loss: 0.0839\n",
      "Epoch [5/5], Step [1500/1875], Loss: 0.0859\n",
      "Epoch [5/5], Step [1600/1875], Loss: 0.2140\n",
      "Epoch [5/5], Step [1700/1875], Loss: 0.0860\n",
      "Epoch [5/5], Step [1800/1875], Loss: 0.0723\n",
      "Accuracy of the network on the 10000 test images: 97.5 %\n",
      "Flor wrote log records locally.\n"
     ]
    }
   ],
   "source": [
    "! python train.py --flor mySecondRun --hidden 75"
   ]
  },
  {
   "cell_type": "markdown",
   "metadata": {},
   "source": [
    "### Advanced (Optional): Batch Processing\n",
    "Alternatively, we can call `flor.batch()` from an interactive environment\n",
    "inside our model training repository, to dispatch a group of jobs that can be long-runnning:"
   ]
  },
  {
   "cell_type": "code",
   "execution_count": null,
   "metadata": {},
   "outputs": [],
   "source": [
    "import flor\n",
    "jobs = flor.cross_prod(hidden=[i*100 for i in range(1,6)],lr=(1e-4, 1e-3))\n",
    "assert jobs is not None\n",
    "flor.batch(jobs)"
   ]
  }
 ],
 "metadata": {
  "kernelspec": {
   "display_name": "base",
   "language": "python",
   "name": "python3"
  },
  "language_info": {
   "codemirror_mode": {
    "name": "ipython",
    "version": 3
   },
   "file_extension": ".py",
   "mimetype": "text/x-python",
   "name": "python",
   "nbconvert_exporter": "python",
   "pygments_lexer": "ipython3",
   "version": "3.9.13"
  },
  "orig_nbformat": 4
 },
 "nbformat": 4,
 "nbformat_minor": 2
}
