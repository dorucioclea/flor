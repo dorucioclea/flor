{
  "cells": [
    {
      "cell_type": "markdown",
      "metadata": {
        "id": "lhsS4gtLUimh"
      },
      "source": [
        "# If you want to follow along:\n",
        "http://bit.ly/405vW8E"
      ]
    },
    {
      "cell_type": "code",
      "execution_count": null,
      "metadata": {
        "id": "mNPFtKuMEnKg"
      },
      "outputs": [],
      "source": [
        "!pip install flordb"
      ]
    },
    {
      "cell_type": "code",
      "execution_count": 2,
      "metadata": {
        "colab": {
          "base_uri": "https://localhost:8080/"
        },
        "id": "n5Y0GqIwFoSu",
        "outputId": "8fbbfbb1-807f-4855-91f4-03335524ad95"
      },
      "outputs": [
        {
          "name": "stdout",
          "output_type": "stream",
          "text": [
            "Cloning into '/content/ml_tutorial'...\n",
            "remote: Enumerating objects: 58, done.\u001b[K\n",
            "remote: Counting objects: 100% (58/58), done.\u001b[K\n",
            "remote: Compressing objects: 100% (45/45), done.\u001b[K\n",
            "remote: Total 58 (delta 22), reused 43 (delta 13), pack-reused 0\u001b[K\n",
            "Receiving objects: 100% (58/58), 15.46 KiB | 329.00 KiB/s, done.\n",
            "Resolving deltas: 100% (22/22), done.\n"
          ]
        }
      ],
      "source": [
        "# Download ML Tutorials\n",
        "!git clone https://github.com/ucbepic/ml_tutorial.git /content/ml_tutorial"
      ]
    },
    {
      "cell_type": "code",
      "execution_count": 3,
      "metadata": {
        "id": "xTFZ25jdPQk5"
      },
      "outputs": [],
      "source": [
        "import os\n",
        "os.chdir('/content/ml_tutorial')"
      ]
    },
    {
      "cell_type": "code",
      "execution_count": null,
      "metadata": {
        "colab": {
          "base_uri": "https://localhost:8080/"
        },
        "id": "m3Ocyah0feGx",
        "outputId": "904df13b-6835-4b3c-904f-2b3b10da6467"
      },
      "outputs": [],
      "source": [
        "!git checkout -b flor.shadow"
      ]
    },
    {
      "cell_type": "markdown",
      "metadata": {
        "id": "o0qFHDnJodmU"
      },
      "source": [
        "# Let's have a look at `main.py` →\n",
        "\n",
        "```python\n",
        "...\n",
        "Flor.checkpoints(model, optimizer)\n",
        "for epoch in Flor.loop(range(num_epochs)):\n",
        "    for i, (images, labels) in Flor.loop(enumerate(train_loader)):\n",
        "      ...\n",
        "```\n"
      ]
    },
    {
      "cell_type": "code",
      "execution_count": null,
      "metadata": {
        "id": "Hh69irV8nFx3"
      },
      "outputs": [],
      "source": [
        "!cp ../decorated_main.py ./main.py"
      ]
    },
    {
      "cell_type": "code",
      "execution_count": null,
      "metadata": {
        "id": "yDFwM6f7fprq"
      },
      "outputs": [],
      "source": [
        "!python main.py --flor GoogleDemo"
      ]
    },
    {
      "cell_type": "markdown",
      "metadata": {
        "id": "qKmDKuaLliEx"
      },
      "source": [
        "pivot came out of nowhere, just always show full pivot so you don't have to talk about it\n",
        "hey I have log records from a past run\n",
        "don't worry about paper1 v paper2. I can see \n",
        "do bulleted outline of what the demo will cover\n",
        "1. show you how to make sure flor is checkpointing & committing on every run (low overhead)\n",
        "2. Examing flor logs over multiple versions to see what's known and not yet known from those runs.\n",
        "3. Show how to generate new log records from past runs.\n",
        "\"now we're on step 2\" put on jupyter comments.\n",
        "Put paper links in notebook\n",
        "Think about SQL demo for future, but not thursday."
      ]
    },
    {
      "cell_type": "code",
      "execution_count": null,
      "metadata": {
        "id": "ExTxEByco1Co"
      },
      "outputs": [],
      "source": [
        "import flor\n",
        "from flor import log_records, full_pivot\n",
        "full_pivot(log_records())"
      ]
    },
    {
      "cell_type": "markdown",
      "metadata": {
        "id": "YyjJ5JB2ocoH"
      },
      "source": [
        "# Part 2"
      ]
    },
    {
      "cell_type": "code",
      "execution_count": 2,
      "metadata": {
        "colab": {
          "base_uri": "https://localhost:8080/"
        },
        "id": "xG4J-XocCa43",
        "outputId": "059db328-10ee-4fd4-b9ef-f4fe4a2ace9e"
      },
      "outputs": [
        {
          "name": "stdout",
          "output_type": "stream",
          "text": [
            "  \u001b[31morigin/HEAD\u001b[m -> origin/main\n",
            "  \u001b[31morigin/flor.shadow.slim\u001b[m\n",
            "  \u001b[31morigin/main\u001b[m\n"
          ]
        }
      ],
      "source": [
        "!git branch -r"
      ]
    },
    {
      "cell_type": "code",
      "execution_count": 3,
      "metadata": {
        "colab": {
          "base_uri": "https://localhost:8080/"
        },
        "id": "2y8hXSdPCGdj",
        "outputId": "2ecb9f09-b9b6-4f74-fe27-e3e1505662b4"
      },
      "outputs": [
        {
          "name": "stdout",
          "output_type": "stream",
          "text": [
            "M\tmain.py\n",
            "Previous HEAD position was adef6a3 RECORD::firstRun\n",
            "Switched to branch 'flor.shadow.slim'\n",
            "Your branch is up to date with 'origin/flor.shadow.slim'.\n"
          ]
        }
      ],
      "source": [
        "!git checkout flor.shadow.slim"
      ]
    },
    {
      "cell_type": "code",
      "execution_count": 4,
      "metadata": {
        "colab": {
          "base_uri": "https://localhost:8080/",
          "height": 423
        },
        "id": "flOJAsE8CLSn",
        "outputId": "42c19ef9-f35f-4c5d-8dcf-fc3a6c84fa9d"
      },
      "outputs": [
        {
          "data": {
            "text/html": [
              "<div>\n",
              "<style scoped>\n",
              "    .dataframe tbody tr th:only-of-type {\n",
              "        vertical-align: middle;\n",
              "    }\n",
              "\n",
              "    .dataframe tbody tr th {\n",
              "        vertical-align: top;\n",
              "    }\n",
              "\n",
              "    .dataframe thead th {\n",
              "        text-align: right;\n",
              "    }\n",
              "</style>\n",
              "<table border=\"1\" class=\"dataframe\">\n",
              "  <thead>\n",
              "    <tr style=\"text-align: right;\">\n",
              "      <th></th>\n",
              "      <th>projid</th>\n",
              "      <th>runid</th>\n",
              "      <th>tstamp</th>\n",
              "      <th>vid</th>\n",
              "      <th>epoch</th>\n",
              "      <th>step</th>\n",
              "      <th>loss</th>\n",
              "      <th>hidden_size</th>\n",
              "      <th>device</th>\n",
              "      <th>lr</th>\n",
              "      <th>accuracy</th>\n",
              "      <th>cf_matrix</th>\n",
              "      <th>batch_size</th>\n",
              "    </tr>\n",
              "  </thead>\n",
              "  <tbody>\n",
              "    <tr>\n",
              "      <th>0</th>\n",
              "      <td>ml_tutorial_flor.shadow.slim</td>\n",
              "      <td>firstRun</td>\n",
              "      <td>2023-03-16 19:05:52</td>\n",
              "      <td>adef6a3ecb5b81729be132bffb1b77cafcbabbf0</td>\n",
              "      <td>1</td>\n",
              "      <td>100</td>\n",
              "      <td>0.3111476004123688</td>\n",
              "      <td>500</td>\n",
              "      <td>cuda</td>\n",
              "      <td>0.001</td>\n",
              "      <td>NaN</td>\n",
              "      <td>NaN</td>\n",
              "      <td>100</td>\n",
              "    </tr>\n",
              "    <tr>\n",
              "      <th>1</th>\n",
              "      <td>ml_tutorial_flor.shadow.slim</td>\n",
              "      <td>firstRun</td>\n",
              "      <td>2023-03-16 19:05:52</td>\n",
              "      <td>adef6a3ecb5b81729be132bffb1b77cafcbabbf0</td>\n",
              "      <td>1</td>\n",
              "      <td>200</td>\n",
              "      <td>0.377599835395813</td>\n",
              "      <td>500</td>\n",
              "      <td>cuda</td>\n",
              "      <td>0.001</td>\n",
              "      <td>NaN</td>\n",
              "      <td>NaN</td>\n",
              "      <td>100</td>\n",
              "    </tr>\n",
              "    <tr>\n",
              "      <th>2</th>\n",
              "      <td>ml_tutorial_flor.shadow.slim</td>\n",
              "      <td>firstRun</td>\n",
              "      <td>2023-03-16 19:05:52</td>\n",
              "      <td>adef6a3ecb5b81729be132bffb1b77cafcbabbf0</td>\n",
              "      <td>1</td>\n",
              "      <td>300</td>\n",
              "      <td>0.28430283069610596</td>\n",
              "      <td>500</td>\n",
              "      <td>cuda</td>\n",
              "      <td>0.001</td>\n",
              "      <td>NaN</td>\n",
              "      <td>NaN</td>\n",
              "      <td>100</td>\n",
              "    </tr>\n",
              "    <tr>\n",
              "      <th>3</th>\n",
              "      <td>ml_tutorial_flor.shadow.slim</td>\n",
              "      <td>firstRun</td>\n",
              "      <td>2023-03-16 19:05:52</td>\n",
              "      <td>adef6a3ecb5b81729be132bffb1b77cafcbabbf0</td>\n",
              "      <td>1</td>\n",
              "      <td>400</td>\n",
              "      <td>0.22875507175922394</td>\n",
              "      <td>500</td>\n",
              "      <td>cuda</td>\n",
              "      <td>0.001</td>\n",
              "      <td>NaN</td>\n",
              "      <td>NaN</td>\n",
              "      <td>100</td>\n",
              "    </tr>\n",
              "    <tr>\n",
              "      <th>4</th>\n",
              "      <td>ml_tutorial_flor.shadow.slim</td>\n",
              "      <td>firstRun</td>\n",
              "      <td>2023-03-16 19:05:52</td>\n",
              "      <td>adef6a3ecb5b81729be132bffb1b77cafcbabbf0</td>\n",
              "      <td>1</td>\n",
              "      <td>500</td>\n",
              "      <td>0.23341701924800873</td>\n",
              "      <td>500</td>\n",
              "      <td>cuda</td>\n",
              "      <td>0.001</td>\n",
              "      <td>NaN</td>\n",
              "      <td>NaN</td>\n",
              "      <td>100</td>\n",
              "    </tr>\n",
              "    <tr>\n",
              "      <th>...</th>\n",
              "      <td>...</td>\n",
              "      <td>...</td>\n",
              "      <td>...</td>\n",
              "      <td>...</td>\n",
              "      <td>...</td>\n",
              "      <td>...</td>\n",
              "      <td>...</td>\n",
              "      <td>...</td>\n",
              "      <td>...</td>\n",
              "      <td>...</td>\n",
              "      <td>...</td>\n",
              "      <td>...</td>\n",
              "      <td>...</td>\n",
              "    </tr>\n",
              "    <tr>\n",
              "      <th>205</th>\n",
              "      <td>ml_tutorial_flor.shadow.slim</td>\n",
              "      <td>confusionMatrix</td>\n",
              "      <td>2023-03-22 20:25:34</td>\n",
              "      <td>4c92099c2242aa2e69fa880e93d82917f71c8a6b</td>\n",
              "      <td>5</td>\n",
              "      <td>500</td>\n",
              "      <td>0.1318817436695099</td>\n",
              "      <td>125</td>\n",
              "      <td>cuda</td>\n",
              "      <td>0.01</td>\n",
              "      <td>97.05</td>\n",
              "      <td>/home/rogarcia/.flor/ml_tutorial_flor.shadow.s...</td>\n",
              "      <td>64</td>\n",
              "    </tr>\n",
              "    <tr>\n",
              "      <th>206</th>\n",
              "      <td>ml_tutorial_flor.shadow.slim</td>\n",
              "      <td>confusionMatrix</td>\n",
              "      <td>2023-03-22 20:25:34</td>\n",
              "      <td>4c92099c2242aa2e69fa880e93d82917f71c8a6b</td>\n",
              "      <td>5</td>\n",
              "      <td>600</td>\n",
              "      <td>0.07255363464355469</td>\n",
              "      <td>125</td>\n",
              "      <td>cuda</td>\n",
              "      <td>0.01</td>\n",
              "      <td>97.05</td>\n",
              "      <td>/home/rogarcia/.flor/ml_tutorial_flor.shadow.s...</td>\n",
              "      <td>64</td>\n",
              "    </tr>\n",
              "    <tr>\n",
              "      <th>207</th>\n",
              "      <td>ml_tutorial_flor.shadow.slim</td>\n",
              "      <td>confusionMatrix</td>\n",
              "      <td>2023-03-22 20:25:34</td>\n",
              "      <td>4c92099c2242aa2e69fa880e93d82917f71c8a6b</td>\n",
              "      <td>5</td>\n",
              "      <td>700</td>\n",
              "      <td>0.2257520854473114</td>\n",
              "      <td>125</td>\n",
              "      <td>cuda</td>\n",
              "      <td>0.01</td>\n",
              "      <td>97.05</td>\n",
              "      <td>/home/rogarcia/.flor/ml_tutorial_flor.shadow.s...</td>\n",
              "      <td>64</td>\n",
              "    </tr>\n",
              "    <tr>\n",
              "      <th>208</th>\n",
              "      <td>ml_tutorial_flor.shadow.slim</td>\n",
              "      <td>confusionMatrix</td>\n",
              "      <td>2023-03-22 20:25:34</td>\n",
              "      <td>4c92099c2242aa2e69fa880e93d82917f71c8a6b</td>\n",
              "      <td>5</td>\n",
              "      <td>800</td>\n",
              "      <td>0.03541708365082741</td>\n",
              "      <td>125</td>\n",
              "      <td>cuda</td>\n",
              "      <td>0.01</td>\n",
              "      <td>97.05</td>\n",
              "      <td>/home/rogarcia/.flor/ml_tutorial_flor.shadow.s...</td>\n",
              "      <td>64</td>\n",
              "    </tr>\n",
              "    <tr>\n",
              "      <th>209</th>\n",
              "      <td>ml_tutorial_flor.shadow.slim</td>\n",
              "      <td>confusionMatrix</td>\n",
              "      <td>2023-03-22 20:25:34</td>\n",
              "      <td>4c92099c2242aa2e69fa880e93d82917f71c8a6b</td>\n",
              "      <td>5</td>\n",
              "      <td>900</td>\n",
              "      <td>0.04241713136434555</td>\n",
              "      <td>125</td>\n",
              "      <td>cuda</td>\n",
              "      <td>0.01</td>\n",
              "      <td>97.05</td>\n",
              "      <td>/home/rogarcia/.flor/ml_tutorial_flor.shadow.s...</td>\n",
              "      <td>64</td>\n",
              "    </tr>\n",
              "  </tbody>\n",
              "</table>\n",
              "<p>210 rows × 13 columns</p>\n",
              "</div>"
            ],
            "text/plain": [
              "                           projid            runid              tstamp  \\\n",
              "0    ml_tutorial_flor.shadow.slim         firstRun 2023-03-16 19:05:52   \n",
              "1    ml_tutorial_flor.shadow.slim         firstRun 2023-03-16 19:05:52   \n",
              "2    ml_tutorial_flor.shadow.slim         firstRun 2023-03-16 19:05:52   \n",
              "3    ml_tutorial_flor.shadow.slim         firstRun 2023-03-16 19:05:52   \n",
              "4    ml_tutorial_flor.shadow.slim         firstRun 2023-03-16 19:05:52   \n",
              "..                            ...              ...                 ...   \n",
              "205  ml_tutorial_flor.shadow.slim  confusionMatrix 2023-03-22 20:25:34   \n",
              "206  ml_tutorial_flor.shadow.slim  confusionMatrix 2023-03-22 20:25:34   \n",
              "207  ml_tutorial_flor.shadow.slim  confusionMatrix 2023-03-22 20:25:34   \n",
              "208  ml_tutorial_flor.shadow.slim  confusionMatrix 2023-03-22 20:25:34   \n",
              "209  ml_tutorial_flor.shadow.slim  confusionMatrix 2023-03-22 20:25:34   \n",
              "\n",
              "                                          vid  epoch  step  \\\n",
              "0    adef6a3ecb5b81729be132bffb1b77cafcbabbf0      1   100   \n",
              "1    adef6a3ecb5b81729be132bffb1b77cafcbabbf0      1   200   \n",
              "2    adef6a3ecb5b81729be132bffb1b77cafcbabbf0      1   300   \n",
              "3    adef6a3ecb5b81729be132bffb1b77cafcbabbf0      1   400   \n",
              "4    adef6a3ecb5b81729be132bffb1b77cafcbabbf0      1   500   \n",
              "..                                        ...    ...   ...   \n",
              "205  4c92099c2242aa2e69fa880e93d82917f71c8a6b      5   500   \n",
              "206  4c92099c2242aa2e69fa880e93d82917f71c8a6b      5   600   \n",
              "207  4c92099c2242aa2e69fa880e93d82917f71c8a6b      5   700   \n",
              "208  4c92099c2242aa2e69fa880e93d82917f71c8a6b      5   800   \n",
              "209  4c92099c2242aa2e69fa880e93d82917f71c8a6b      5   900   \n",
              "\n",
              "                    loss hidden_size device     lr accuracy  \\\n",
              "0     0.3111476004123688         500   cuda  0.001      NaN   \n",
              "1      0.377599835395813         500   cuda  0.001      NaN   \n",
              "2    0.28430283069610596         500   cuda  0.001      NaN   \n",
              "3    0.22875507175922394         500   cuda  0.001      NaN   \n",
              "4    0.23341701924800873         500   cuda  0.001      NaN   \n",
              "..                   ...         ...    ...    ...      ...   \n",
              "205   0.1318817436695099         125   cuda   0.01    97.05   \n",
              "206  0.07255363464355469         125   cuda   0.01    97.05   \n",
              "207   0.2257520854473114         125   cuda   0.01    97.05   \n",
              "208  0.03541708365082741         125   cuda   0.01    97.05   \n",
              "209  0.04241713136434555         125   cuda   0.01    97.05   \n",
              "\n",
              "                                             cf_matrix batch_size  \n",
              "0                                                  NaN        100  \n",
              "1                                                  NaN        100  \n",
              "2                                                  NaN        100  \n",
              "3                                                  NaN        100  \n",
              "4                                                  NaN        100  \n",
              "..                                                 ...        ...  \n",
              "205  /home/rogarcia/.flor/ml_tutorial_flor.shadow.s...         64  \n",
              "206  /home/rogarcia/.flor/ml_tutorial_flor.shadow.s...         64  \n",
              "207  /home/rogarcia/.flor/ml_tutorial_flor.shadow.s...         64  \n",
              "208  /home/rogarcia/.flor/ml_tutorial_flor.shadow.s...         64  \n",
              "209  /home/rogarcia/.flor/ml_tutorial_flor.shadow.s...         64  \n",
              "\n",
              "[210 rows x 13 columns]"
            ]
          },
          "execution_count": 4,
          "metadata": {},
          "output_type": "execute_result"
        }
      ],
      "source": [
        "import flor\n",
        "from flor import log_records, full_pivot\n",
        "pvt = full_pivot(log_records())\n",
        "pvt"
      ]
    },
    {
      "cell_type": "code",
      "execution_count": 5,
      "metadata": {
        "colab": {
          "base_uri": "https://localhost:8080/",
          "height": 237
        },
        "id": "lQNteBAiI4PN",
        "outputId": "df482ba9-07df-4b20-dd6e-fd4d02f80a2a"
      },
      "outputs": [
        {
          "data": {
            "text/html": [
              "<div>\n",
              "<style scoped>\n",
              "    .dataframe tbody tr th:only-of-type {\n",
              "        vertical-align: middle;\n",
              "    }\n",
              "\n",
              "    .dataframe tbody tr th {\n",
              "        vertical-align: top;\n",
              "    }\n",
              "\n",
              "    .dataframe thead th {\n",
              "        text-align: right;\n",
              "    }\n",
              "</style>\n",
              "<table border=\"1\" class=\"dataframe\">\n",
              "  <thead>\n",
              "    <tr style=\"text-align: right;\">\n",
              "      <th></th>\n",
              "      <th>projid</th>\n",
              "      <th>runid</th>\n",
              "      <th>tstamp</th>\n",
              "      <th>vid</th>\n",
              "      <th>accuracy</th>\n",
              "      <th>cf_matrix</th>\n",
              "      <th>hidden_size</th>\n",
              "      <th>lr</th>\n",
              "      <th>batch_size</th>\n",
              "    </tr>\n",
              "  </thead>\n",
              "  <tbody>\n",
              "    <tr>\n",
              "      <th>0</th>\n",
              "      <td>ml_tutorial_flor.shadow.slim</td>\n",
              "      <td>firstRun</td>\n",
              "      <td>2023-03-16 19:05:52</td>\n",
              "      <td>adef6a3ecb5b81729be132bffb1b77cafcbabbf0</td>\n",
              "      <td>NaN</td>\n",
              "      <td>NaN</td>\n",
              "      <td>500</td>\n",
              "      <td>0.001</td>\n",
              "      <td>100</td>\n",
              "    </tr>\n",
              "    <tr>\n",
              "      <th>30</th>\n",
              "      <td>ml_tutorial_flor.shadow.slim</td>\n",
              "      <td>smallerModel</td>\n",
              "      <td>2023-03-16 19:14:29</td>\n",
              "      <td>fd588e17c39bac20dfd7612a3a6ddba8b8d32cb3</td>\n",
              "      <td>NaN</td>\n",
              "      <td>NaN</td>\n",
              "      <td>250</td>\n",
              "      <td>0.001</td>\n",
              "      <td>100</td>\n",
              "    </tr>\n",
              "    <tr>\n",
              "      <th>60</th>\n",
              "      <td>ml_tutorial_flor.shadow.slim</td>\n",
              "      <td>smallerModel</td>\n",
              "      <td>2023-03-16 19:15:07</td>\n",
              "      <td>80b771bd0ae66538a6fa4d149a09ab34361d540b</td>\n",
              "      <td>NaN</td>\n",
              "      <td>NaN</td>\n",
              "      <td>125</td>\n",
              "      <td>0.001</td>\n",
              "      <td>100</td>\n",
              "    </tr>\n",
              "    <tr>\n",
              "      <th>90</th>\n",
              "      <td>ml_tutorial_flor.shadow.slim</td>\n",
              "      <td>increaseLR</td>\n",
              "      <td>2023-03-16 19:16:23</td>\n",
              "      <td>e273531a28bb6f16fa24b54056e23e7c1b9cdc9d</td>\n",
              "      <td>NaN</td>\n",
              "      <td>NaN</td>\n",
              "      <td>125</td>\n",
              "      <td>0.01</td>\n",
              "      <td>100</td>\n",
              "    </tr>\n",
              "    <tr>\n",
              "      <th>120</th>\n",
              "      <td>ml_tutorial_flor.shadow.slim</td>\n",
              "      <td>smallerBatchSize</td>\n",
              "      <td>2023-03-16 19:17:16</td>\n",
              "      <td>ae0355650b4c358baa113c1c75821c778091ee9e</td>\n",
              "      <td>NaN</td>\n",
              "      <td>NaN</td>\n",
              "      <td>125</td>\n",
              "      <td>0.01</td>\n",
              "      <td>64</td>\n",
              "    </tr>\n",
              "    <tr>\n",
              "      <th>165</th>\n",
              "      <td>ml_tutorial_flor.shadow.slim</td>\n",
              "      <td>confusionMatrix</td>\n",
              "      <td>2023-03-22 20:25:34</td>\n",
              "      <td>4c92099c2242aa2e69fa880e93d82917f71c8a6b</td>\n",
              "      <td>97.05</td>\n",
              "      <td>/home/rogarcia/.flor/ml_tutorial_flor.shadow.s...</td>\n",
              "      <td>125</td>\n",
              "      <td>0.01</td>\n",
              "      <td>64</td>\n",
              "    </tr>\n",
              "  </tbody>\n",
              "</table>\n",
              "</div>"
            ],
            "text/plain": [
              "                           projid             runid              tstamp  \\\n",
              "0    ml_tutorial_flor.shadow.slim          firstRun 2023-03-16 19:05:52   \n",
              "30   ml_tutorial_flor.shadow.slim      smallerModel 2023-03-16 19:14:29   \n",
              "60   ml_tutorial_flor.shadow.slim      smallerModel 2023-03-16 19:15:07   \n",
              "90   ml_tutorial_flor.shadow.slim        increaseLR 2023-03-16 19:16:23   \n",
              "120  ml_tutorial_flor.shadow.slim  smallerBatchSize 2023-03-16 19:17:16   \n",
              "165  ml_tutorial_flor.shadow.slim   confusionMatrix 2023-03-22 20:25:34   \n",
              "\n",
              "                                          vid accuracy  \\\n",
              "0    adef6a3ecb5b81729be132bffb1b77cafcbabbf0      NaN   \n",
              "30   fd588e17c39bac20dfd7612a3a6ddba8b8d32cb3      NaN   \n",
              "60   80b771bd0ae66538a6fa4d149a09ab34361d540b      NaN   \n",
              "90   e273531a28bb6f16fa24b54056e23e7c1b9cdc9d      NaN   \n",
              "120  ae0355650b4c358baa113c1c75821c778091ee9e      NaN   \n",
              "165  4c92099c2242aa2e69fa880e93d82917f71c8a6b    97.05   \n",
              "\n",
              "                                             cf_matrix hidden_size     lr  \\\n",
              "0                                                  NaN         500  0.001   \n",
              "30                                                 NaN         250  0.001   \n",
              "60                                                 NaN         125  0.001   \n",
              "90                                                 NaN         125   0.01   \n",
              "120                                                NaN         125   0.01   \n",
              "165  /home/rogarcia/.flor/ml_tutorial_flor.shadow.s...         125   0.01   \n",
              "\n",
              "    batch_size  \n",
              "0          100  \n",
              "30         100  \n",
              "60         100  \n",
              "90         100  \n",
              "120         64  \n",
              "165         64  "
            ]
          },
          "execution_count": 5,
          "metadata": {},
          "output_type": "execute_result"
        }
      ],
      "source": [
        "pvt[list(flor.DATA_PREP) + ['accuracy', 'cf_matrix', 'hidden_size', 'lr', 'batch_size']].drop_duplicates()"
      ]
    },
    {
      "cell_type": "code",
      "execution_count": null,
      "metadata": {
        "colab": {
          "base_uri": "https://localhost:8080/",
          "height": 734
        },
        "id": "xalrE6G7BtGJ",
        "outputId": "46121452-314a-4bb9-e71e-8a6e09a4da77"
      },
      "outputs": [],
      "source": [
        "from IPython.display import display\n",
        "from IPython.core.display import Image\n",
        "from pathlib import PurePath\n",
        "\n",
        "for projid,runid,tstamp,vid,cf_matrix,accuracy in pvt[list(flor.DATA_PREP) + ['cf_matrix', 'accuracy']].drop_duplicates().values:\n",
        "  if not isinstance(cf_matrix, float):\n",
        "    p = PurePath(cf_matrix)\n",
        "    print((runid, str(tstamp), accuracy))\n",
        "    display(Image(p))"
      ]
    },
    {
      "cell_type": "code",
      "execution_count": 9,
      "metadata": {
        "colab": {
          "base_uri": "https://localhost:8080/",
          "height": 241
        },
        "id": "q0qyG4DvCin9",
        "outputId": "2e20d61d-38bd-4439-d087-0341e280c44d"
      },
      "outputs": [
        {
          "data": {
            "text/html": [
              "<div>\n",
              "<style scoped>\n",
              "    .dataframe tbody tr th:only-of-type {\n",
              "        vertical-align: middle;\n",
              "    }\n",
              "\n",
              "    .dataframe tbody tr th {\n",
              "        vertical-align: top;\n",
              "    }\n",
              "\n",
              "    .dataframe thead th {\n",
              "        text-align: right;\n",
              "    }\n",
              "</style>\n",
              "<table border=\"1\" class=\"dataframe\">\n",
              "  <thead>\n",
              "    <tr style=\"text-align: right;\">\n",
              "      <th></th>\n",
              "      <th>projid</th>\n",
              "      <th>runid</th>\n",
              "      <th>tstamp</th>\n",
              "      <th>vid</th>\n",
              "      <th>seconds</th>\n",
              "    </tr>\n",
              "  </thead>\n",
              "  <tbody>\n",
              "    <tr>\n",
              "      <th>0</th>\n",
              "      <td>ml_tutorial_flor.shadow.slim</td>\n",
              "      <td>firstRun</td>\n",
              "      <td>2023-03-16 19:05:52</td>\n",
              "      <td>adef6a3ecb5b81729be132bffb1b77cafcbabbf0</td>\n",
              "      <td>1.592322</td>\n",
              "    </tr>\n",
              "    <tr>\n",
              "      <th>1</th>\n",
              "      <td>ml_tutorial_flor.shadow.slim</td>\n",
              "      <td>smallerModel</td>\n",
              "      <td>2023-03-16 19:14:29</td>\n",
              "      <td>fd588e17c39bac20dfd7612a3a6ddba8b8d32cb3</td>\n",
              "      <td>1.589842</td>\n",
              "    </tr>\n",
              "    <tr>\n",
              "      <th>2</th>\n",
              "      <td>ml_tutorial_flor.shadow.slim</td>\n",
              "      <td>smallerModel</td>\n",
              "      <td>2023-03-16 19:15:07</td>\n",
              "      <td>80b771bd0ae66538a6fa4d149a09ab34361d540b</td>\n",
              "      <td>1.585685</td>\n",
              "    </tr>\n",
              "    <tr>\n",
              "      <th>3</th>\n",
              "      <td>ml_tutorial_flor.shadow.slim</td>\n",
              "      <td>increaseLR</td>\n",
              "      <td>2023-03-16 19:16:23</td>\n",
              "      <td>e273531a28bb6f16fa24b54056e23e7c1b9cdc9d</td>\n",
              "      <td>1.577927</td>\n",
              "    </tr>\n",
              "    <tr>\n",
              "      <th>4</th>\n",
              "      <td>ml_tutorial_flor.shadow.slim</td>\n",
              "      <td>smallerBatchSize</td>\n",
              "      <td>2023-03-16 19:17:16</td>\n",
              "      <td>ae0355650b4c358baa113c1c75821c778091ee9e</td>\n",
              "      <td>1.582226</td>\n",
              "    </tr>\n",
              "  </tbody>\n",
              "</table>\n",
              "</div>"
            ],
            "text/plain": [
              "                         projid             runid              tstamp  \\\n",
              "0  ml_tutorial_flor.shadow.slim          firstRun 2023-03-16 19:05:52   \n",
              "1  ml_tutorial_flor.shadow.slim      smallerModel 2023-03-16 19:14:29   \n",
              "2  ml_tutorial_flor.shadow.slim      smallerModel 2023-03-16 19:15:07   \n",
              "3  ml_tutorial_flor.shadow.slim        increaseLR 2023-03-16 19:16:23   \n",
              "4  ml_tutorial_flor.shadow.slim  smallerBatchSize 2023-03-16 19:17:16   \n",
              "\n",
              "                                        vid   seconds  \n",
              "0  adef6a3ecb5b81729be132bffb1b77cafcbabbf0  1.592322  \n",
              "1  fd588e17c39bac20dfd7612a3a6ddba8b8d32cb3  1.589842  \n",
              "2  80b771bd0ae66538a6fa4d149a09ab34361d540b  1.585685  \n",
              "3  e273531a28bb6f16fa24b54056e23e7c1b9cdc9d  1.577927  \n",
              "4  ae0355650b4c358baa113c1c75821c778091ee9e  1.582226  "
            ]
          },
          "metadata": {},
          "output_type": "display_data"
        },
        {
          "name": "stdout",
          "output_type": "stream",
          "text": [
            "Continue replaying 5 versions at DATA_PREP level for 22.93 seconds?\n",
            "Applied cf_matrix to main.py\n"
          ]
        }
      ],
      "source": [
        "flor.replay(['cf_matrix'], 'cf_matrix.isna()', 'main.py')"
      ]
    },
    {
      "cell_type": "code",
      "execution_count": null,
      "metadata": {},
      "outputs": [],
      "source": []
    }
  ],
  "metadata": {
    "accelerator": "GPU",
    "colab": {
      "provenance": []
    },
    "gpuClass": "standard",
    "kernelspec": {
      "display_name": "Python 3",
      "name": "python3"
    },
    "language_info": {
      "codemirror_mode": {
        "name": "ipython",
        "version": 3
      },
      "file_extension": ".py",
      "mimetype": "text/x-python",
      "name": "python",
      "nbconvert_exporter": "python",
      "pygments_lexer": "ipython3",
      "version": "3.9.13"
    }
  },
  "nbformat": 4,
  "nbformat_minor": 0
}
