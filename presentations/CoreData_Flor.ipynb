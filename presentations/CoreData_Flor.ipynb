{
  "cells": [
    {
      "cell_type": "markdown",
      "metadata": {
        "id": "lhsS4gtLUimh"
      },
      "source": [
        "# If you want to follow along:\n",
        "http://bit.ly/405vW8E"
      ]
    },
    {
      "cell_type": "code",
      "execution_count": null,
      "metadata": {
        "id": "mNPFtKuMEnKg"
      },
      "outputs": [],
      "source": [
        "!pip install flordb"
      ]
    },
    {
      "cell_type": "code",
      "execution_count": null,
      "metadata": {
        "colab": {
          "base_uri": "https://localhost:8080/"
        },
        "id": "n5Y0GqIwFoSu",
        "outputId": "8fbbfbb1-807f-4855-91f4-03335524ad95"
      },
      "outputs": [],
      "source": [
        "# Download ML Tutorials\n",
        "!git clone https://github.com/ucbepic/ml_tutorial.git /content/ml_tutorial"
      ]
    },
    {
      "cell_type": "code",
      "execution_count": null,
      "metadata": {
        "id": "xTFZ25jdPQk5"
      },
      "outputs": [],
      "source": [
        "import os\n",
        "os.chdir('/content/ml_tutorial')"
      ]
    },
    {
      "cell_type": "code",
      "execution_count": null,
      "metadata": {
        "colab": {
          "base_uri": "https://localhost:8080/"
        },
        "id": "m3Ocyah0feGx",
        "outputId": "904df13b-6835-4b3c-904f-2b3b10da6467"
      },
      "outputs": [],
      "source": [
        "!git checkout -b flor.shadow"
      ]
    },
    {
      "cell_type": "markdown",
      "metadata": {
        "id": "o0qFHDnJodmU"
      },
      "source": [
        "# Let's have a look at `main.py` →\n",
        "\n",
        "```python\n",
        "...\n",
        "Flor.checkpoints(model, optimizer)\n",
        "for epoch in Flor.loop(range(num_epochs)):\n",
        "    for i, (images, labels) in Flor.loop(enumerate(train_loader)):\n",
        "      ...\n",
        "```\n"
      ]
    },
    {
      "cell_type": "code",
      "execution_count": null,
      "metadata": {
        "id": "Hh69irV8nFx3"
      },
      "outputs": [],
      "source": [
        "!cp ../decorated_main.py ./main.py"
      ]
    },
    {
      "cell_type": "code",
      "execution_count": null,
      "metadata": {
        "id": "yDFwM6f7fprq"
      },
      "outputs": [],
      "source": [
        "!python main.py --flor GoogleDemo"
      ]
    },
    {
      "cell_type": "markdown",
      "metadata": {
        "id": "qKmDKuaLliEx"
      },
      "source": [
        "pivot came out of nowhere, just always show full pivot so you don't have to talk about it\n",
        "hey I have log records from a past run\n",
        "don't worry about paper1 v paper2. I can see \n",
        "do bulleted outline of what the demo will cover\n",
        "1. show you how to make sure flor is checkpointing & committing on every run (low overhead)\n",
        "2. Examing flor logs over multiple versions to see what's known and not yet known from those runs.\n",
        "3. Show how to generate new log records from past runs.\n",
        "\"now we're on step 2\" put on jupyter comments.\n",
        "Put paper links in notebook\n",
        "Think about SQL demo for future, but not thursday."
      ]
    },
    {
      "cell_type": "code",
      "execution_count": null,
      "metadata": {
        "id": "ExTxEByco1Co"
      },
      "outputs": [],
      "source": [
        "import flor\n",
        "from flor import log_records, full_pivot\n",
        "full_pivot(log_records())"
      ]
    },
    {
      "cell_type": "markdown",
      "metadata": {
        "id": "YyjJ5JB2ocoH"
      },
      "source": [
        "# Part 2"
      ]
    },
    {
      "cell_type": "code",
      "execution_count": null,
      "metadata": {
        "colab": {
          "base_uri": "https://localhost:8080/"
        },
        "id": "xG4J-XocCa43",
        "outputId": "059db328-10ee-4fd4-b9ef-f4fe4a2ace9e"
      },
      "outputs": [],
      "source": [
        "!git branch -r"
      ]
    },
    {
      "cell_type": "code",
      "execution_count": null,
      "metadata": {
        "colab": {
          "base_uri": "https://localhost:8080/"
        },
        "id": "2y8hXSdPCGdj",
        "outputId": "2ecb9f09-b9b6-4f74-fe27-e3e1505662b4"
      },
      "outputs": [],
      "source": [
        "!git checkout flor.shadow.slim"
      ]
    },
    {
      "cell_type": "code",
      "execution_count": null,
      "metadata": {
        "colab": {
          "base_uri": "https://localhost:8080/",
          "height": 423
        },
        "id": "flOJAsE8CLSn",
        "outputId": "42c19ef9-f35f-4c5d-8dcf-fc3a6c84fa9d"
      },
      "outputs": [],
      "source": [
        "import flor\n",
        "from flor import log_records, full_pivot\n",
        "pvt = full_pivot(log_records())\n",
        "pvt"
      ]
    },
    {
      "cell_type": "code",
      "execution_count": null,
      "metadata": {
        "colab": {
          "base_uri": "https://localhost:8080/",
          "height": 237
        },
        "id": "lQNteBAiI4PN",
        "outputId": "df482ba9-07df-4b20-dd6e-fd4d02f80a2a"
      },
      "outputs": [],
      "source": [
        "pvt[list(flor.DATA_PREP) + ['accuracy', 'cf_matrix', 'hidden_size', 'lr', 'batch_size']].drop_duplicates()"
      ]
    },
    {
      "cell_type": "code",
      "execution_count": null,
      "metadata": {
        "colab": {
          "base_uri": "https://localhost:8080/",
          "height": 734
        },
        "id": "xalrE6G7BtGJ",
        "outputId": "46121452-314a-4bb9-e71e-8a6e09a4da77"
      },
      "outputs": [],
      "source": [
        "from IPython.display import display\n",
        "from IPython.core.display import Image\n",
        "from pathlib import PurePath\n",
        "\n",
        "for projid,runid,tstamp,vid,cf_matrix,accuracy in pvt[list(flor.DATA_PREP) + ['cf_matrix', 'accuracy']].drop_duplicates().values:\n",
        "  if not isinstance(cf_matrix, float):\n",
        "    p = PurePath(cf_matrix)\n",
        "    print((runid, str(tstamp), accuracy))\n",
        "    display(Image(p))"
      ]
    },
    {
      "cell_type": "code",
      "execution_count": null,
      "metadata": {
        "colab": {
          "base_uri": "https://localhost:8080/",
          "height": 241
        },
        "id": "q0qyG4DvCin9",
        "outputId": "2e20d61d-38bd-4439-d087-0341e280c44d"
      },
      "outputs": [],
      "source": [
        "flor.replay(['cf_matrix'], 'cf_matrix.isna()', 'main.py')"
      ]
    },
    {
      "cell_type": "code",
      "execution_count": null,
      "metadata": {},
      "outputs": [],
      "source": []
    }
  ],
  "metadata": {
    "accelerator": "GPU",
    "colab": {
      "provenance": []
    },
    "gpuClass": "standard",
    "kernelspec": {
      "display_name": "Python 3",
      "name": "python3"
    },
    "language_info": {
      "codemirror_mode": {
        "name": "ipython",
        "version": 3
      },
      "file_extension": ".py",
      "mimetype": "text/x-python",
      "name": "python",
      "nbconvert_exporter": "python",
      "pygments_lexer": "ipython3",
      "version": "3.9.13"
    }
  },
  "nbformat": 4,
  "nbformat_minor": 0
}
