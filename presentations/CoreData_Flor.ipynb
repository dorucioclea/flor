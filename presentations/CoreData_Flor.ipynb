{
  "nbformat": 4,
  "nbformat_minor": 0,
  "metadata": {
    "colab": {
      "provenance": []
    },
    "kernelspec": {
      "name": "python3",
      "display_name": "Python 3"
    },
    "language_info": {
      "name": "python"
    },
    "accelerator": "GPU",
    "gpuClass": "standard"
  },
  "cells": [
    {
      "cell_type": "markdown",
      "source": [
        "# If you want to follow along:\n",
        "http://bit.ly/405vW8E"
      ],
      "metadata": {
        "id": "lhsS4gtLUimh"
      }
    },
    {
      "cell_type": "code",
      "execution_count": null,
      "metadata": {
        "id": "mNPFtKuMEnKg"
      },
      "outputs": [],
      "source": [
        "!pip install flordb"
      ]
    },
    {
      "cell_type": "code",
      "source": [
        "# Download ML Tutorials\n",
        "!git clone https://github.com/ucbepic/ml_tutorial.git"
      ],
      "metadata": {
        "id": "n5Y0GqIwFoSu"
      },
      "execution_count": null,
      "outputs": []
    },
    {
      "cell_type": "code",
      "source": [
        "import os\n",
        "os.chdir('ml_tutorial')"
      ],
      "metadata": {
        "id": "xTFZ25jdPQk5"
      },
      "execution_count": null,
      "outputs": []
    },
    {
      "cell_type": "code",
      "source": [
        "!git checkout -b flor.shadow"
      ],
      "metadata": {
        "id": "m3Ocyah0feGx"
      },
      "execution_count": null,
      "outputs": []
    },
    {
      "cell_type": "markdown",
      "source": [
        "# Let's have a look at `main.py` →\n",
        "\n",
        "```python\n",
        "...\n",
        "Flor.checkpoints(model, optimizer)\n",
        "for epoch in Flor.loop(range(num_epochs)):\n",
        "    for i, (images, labels) in Flor.loop(enumerate(train_loader)):\n",
        "      ...\n",
        "```\n"
      ],
      "metadata": {
        "id": "o0qFHDnJodmU"
      }
    },
    {
      "cell_type": "code",
      "source": [
        "!python main.py --flor GoogleDemo"
      ],
      "metadata": {
        "id": "yDFwM6f7fprq"
      },
      "execution_count": null,
      "outputs": []
    },
    {
      "cell_type": "code",
      "source": [
        "import flor\n",
        "from flor import log_records, full_pivot\n",
        "full_pivot(log_records())"
      ],
      "metadata": {
        "id": "ExTxEByco1Co"
      },
      "execution_count": null,
      "outputs": []
    },
    {
      "cell_type": "markdown",
      "source": [
        "# Part 2"
      ],
      "metadata": {
        "id": "YyjJ5JB2ocoH"
      }
    },
    {
      "cell_type": "markdown",
      "source": [
        "hey I have log records from a past run\n",
        "\n",
        "1. I've already shown you how to make sure flor is checkpointing & committing on every run (low overhead)\n",
        "2. Examing flor logs over multiple versions to see what's known and not yet known from those runs.\n",
        "3. Show how to generate new log records from past runs."
      ],
      "metadata": {
        "id": "qKmDKuaLliEx"
      }
    },
    {
      "cell_type": "code",
      "source": [
        "!git branch -r"
      ],
      "metadata": {
        "id": "xG4J-XocCa43",
        "colab": {
          "base_uri": "https://localhost:8080/"
        },
        "outputId": "75929e38-e259-492d-cf24-45cb2ee3038f"
      },
      "execution_count": null,
      "outputs": [
        {
          "output_type": "stream",
          "name": "stdout",
          "text": [
            "  \u001b[31morigin/HEAD\u001b[m -> origin/main\r\n",
            "  \u001b[31morigin/flor.shadow.slim\u001b[m\r\n",
            "  \u001b[31morigin/main\u001b[m\r\n"
          ]
        }
      ]
    },
    {
      "cell_type": "code",
      "source": [
        "!git checkout flor.shadow.slim"
      ],
      "metadata": {
        "id": "2y8hXSdPCGdj",
        "colab": {
          "base_uri": "https://localhost:8080/"
        },
        "outputId": "de9a6b86-db5c-4429-852d-85578dcd4a9a"
      },
      "execution_count": null,
      "outputs": [
        {
          "output_type": "stream",
          "name": "stdout",
          "text": [
            "branch 'flor.shadow.slim' set up to track 'origin/flor.shadow.slim'.\r\n",
            "Switched to a new branch 'flor.shadow.slim'\r\n"
          ]
        }
      ]
    },
    {
      "cell_type": "markdown",
      "source": [
        "# Let's look at `main.py` →\n",
        "\n",
        "It's someone else's logging"
      ],
      "metadata": {
        "id": "HPIOhDAHnFC0"
      }
    },
    {
      "cell_type": "code",
      "source": [
        "import flor\n",
        "from flor import log_records, full_pivot\n",
        "pvt = full_pivot(log_records())\n",
        "pvt"
      ],
      "metadata": {
        "id": "flOJAsE8CLSn"
      },
      "execution_count": null,
      "outputs": []
    },
    {
      "cell_type": "code",
      "source": [
        "pvt[list(flor.DATA_PREP) \n",
        "+ ['accuracy', 'cf_matrix', 'hidden_size', \n",
        "   'lr', 'batch_size']].drop_duplicates()"
      ],
      "metadata": {
        "id": "lQNteBAiI4PN"
      },
      "execution_count": null,
      "outputs": []
    },
    {
      "cell_type": "code",
      "source": [
        "from IPython.display import display\n",
        "from IPython.core.display import Image\n",
        "from pathlib import PurePath\n",
        "\n",
        "for projid,runid,tstamp,vid,cf_matrix,accuracy in pvt[\n",
        "    list(flor.DATA_PREP) + ['cf_matrix', 'accuracy']].drop_duplicates().values:\n",
        "  if not isinstance(cf_matrix, float):\n",
        "    p = PurePath(cf_matrix)\n",
        "    print((runid, str(tstamp), accuracy))\n",
        "    display(Image(p))"
      ],
      "metadata": {
        "id": "xalrE6G7BtGJ"
      },
      "execution_count": null,
      "outputs": []
    },
    {
      "cell_type": "code",
      "source": [
        "flor.replay(['cf_matrix'], 'accuracy.isna() or cf_matrix.isna()', 'main.py')"
      ],
      "metadata": {
        "id": "q0qyG4DvCin9"
      },
      "execution_count": null,
      "outputs": []
    }
  ]
}