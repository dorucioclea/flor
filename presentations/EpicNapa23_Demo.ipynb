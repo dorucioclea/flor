{
  "cells": [
    {
      "attachments": {},
      "cell_type": "markdown",
      "metadata": {},
      "source": [
        "# Retroactive Query Evaluation for Iterative AI/ML\n",
        "### Epic Retreat, Napa, CA, 2023\n",
        "\n",
        "FlorDB Demo\n",
        "\n",
        "repository: github.com/ucbrise/flor"
      ]
    },
    {
      "cell_type": "code",
      "execution_count": null,
      "metadata": {
        "id": "mNPFtKuMEnKg"
      },
      "outputs": [],
      "source": [
        "%pip install flordb"
      ]
    },
    {
      "cell_type": "code",
      "execution_count": null,
      "metadata": {
        "id": "n5Y0GqIwFoSu"
      },
      "outputs": [],
      "source": [
        "# Download ML Tutorials\n",
        "!git clone https://github.com/ucbepic/ml_tutorial.git /content/ml_tutorial"
      ]
    },
    {
      "cell_type": "code",
      "execution_count": null,
      "metadata": {
        "id": "xTFZ25jdPQk5"
      },
      "outputs": [],
      "source": [
        "import os\n",
        "os.chdir('/content/ml_tutorial')"
      ]
    },
    {
      "cell_type": "code",
      "execution_count": null,
      "metadata": {
        "id": "m3Ocyah0feGx"
      },
      "outputs": [],
      "source": [
        "!git checkout -b flor.shadow"
      ]
    },
    {
      "cell_type": "markdown",
      "metadata": {
        "id": "o0qFHDnJodmU"
      },
      "source": [
        "# Let's have a look at `main.py` →\n",
        "\n",
        "```python\n",
        "...\n",
        "Flor.checkpoints(model, optimizer)\n",
        "for epoch in Flor.loop(range(num_epochs)):\n",
        "    for i, (images, labels) in Flor.loop(enumerate(train_loader)):\n",
        "      ...\n",
        "```\n"
      ]
    },
    {
      "cell_type": "code",
      "execution_count": null,
      "metadata": {},
      "outputs": [],
      "source": [
        "!code /content/ml_tutorial/main.py"
      ]
    },
    {
      "cell_type": "code",
      "execution_count": null,
      "metadata": {
        "id": "yDFwM6f7fprq"
      },
      "outputs": [],
      "source": [
        "!python main.py --flor EpicDemo"
      ]
    },
    {
      "cell_type": "code",
      "execution_count": null,
      "metadata": {
        "id": "ExTxEByco1Co"
      },
      "outputs": [],
      "source": [
        "import flor\n",
        "from flor import log_records, full_pivot\n",
        "pvt = full_pivot(log_records())\n",
        "pvt"
      ]
    },
    {
      "cell_type": "code",
      "execution_count": null,
      "metadata": {},
      "outputs": [],
      "source": [
        "from IPython.display import display\n",
        "from IPython.core.display import Image\n",
        "from pathlib import PurePath\n",
        "\n",
        "pvt = full_pivot(log_records())\n",
        "for projid,runid,tstamp,vid,cf_matrix in pvt[\n",
        "    list(flor.DATA_PREP) + ['cf_matrix']].drop_duplicates().values:\n",
        "  if not isinstance(cf_matrix, float):\n",
        "    p = PurePath(cf_matrix)\n",
        "    display(Image(p))"
      ]
    },
    {
      "cell_type": "markdown",
      "metadata": {
        "id": "YyjJ5JB2ocoH"
      },
      "source": [
        "# Part 2"
      ]
    },
    {
      "cell_type": "markdown",
      "metadata": {
        "id": "qKmDKuaLliEx"
      },
      "source": [
        "hey I have log records from a past run\n",
        "\n",
        "1. I've already shown you how to make sure flor is checkpointing & committing on every run (low overhead)\n",
        "2. Examing flor logs over multiple versions to see what's known and not yet known from those runs.\n",
        "3. Show how to generate new log records from past runs."
      ]
    },
    {
      "cell_type": "code",
      "execution_count": null,
      "metadata": {
        "colab": {
          "base_uri": "https://localhost:8080/"
        },
        "id": "xG4J-XocCa43",
        "outputId": "75929e38-e259-492d-cf24-45cb2ee3038f"
      },
      "outputs": [],
      "source": [
        "!git branch -r"
      ]
    },
    {
      "cell_type": "code",
      "execution_count": null,
      "metadata": {
        "colab": {
          "base_uri": "https://localhost:8080/"
        },
        "id": "2y8hXSdPCGdj",
        "outputId": "de9a6b86-db5c-4429-852d-85578dcd4a9a"
      },
      "outputs": [],
      "source": [
        "!git checkout flor.shadow.compressed"
      ]
    },
    {
      "cell_type": "markdown",
      "metadata": {
        "id": "HPIOhDAHnFC0"
      },
      "source": [
        "# Let's look at `main.py` →\n",
        "\n",
        "It's someone else's logging"
      ]
    },
    {
      "cell_type": "code",
      "execution_count": null,
      "metadata": {},
      "outputs": [],
      "source": [
        "!code /content/ml_tutorial/main.py"
      ]
    },
    {
      "cell_type": "code",
      "execution_count": null,
      "metadata": {
        "id": "flOJAsE8CLSn"
      },
      "outputs": [],
      "source": [
        "import flor\n",
        "from flor import log_records, full_pivot\n",
        "pvt = full_pivot(log_records())\n",
        "pvt"
      ]
    },
    {
      "cell_type": "code",
      "execution_count": null,
      "metadata": {
        "id": "lQNteBAiI4PN"
      },
      "outputs": [],
      "source": [
        "pvt[list(flor.DATA_PREP) \n",
        "+ ['cf_matrix', 'hidden_size', \n",
        "   'lr', 'batch_size', 'accuracy']].drop_duplicates()"
      ]
    },
    {
      "cell_type": "code",
      "execution_count": null,
      "metadata": {
        "id": "q0qyG4DvCin9"
      },
      "outputs": [],
      "source": [
        "flor.replay(['cf_matrix'], 'cf_matrix.isna()', 'main.py')"
      ]
    },
    {
      "cell_type": "code",
      "execution_count": null,
      "metadata": {
        "id": "xalrE6G7BtGJ"
      },
      "outputs": [],
      "source": [
        "from IPython.display import display\n",
        "from IPython.core.display import Image\n",
        "from pathlib import PurePath\n",
        "\n",
        "pvt = full_pivot(log_records())\n",
        "for projid,runid,tstamp,vid,cf_matrix,accuracy in pvt[\n",
        "    list(flor.DATA_PREP) + ['cf_matrix', 'accuracy']].drop_duplicates().values:\n",
        "  if not isinstance(cf_matrix, float):\n",
        "    p = PurePath(cf_matrix)\n",
        "    print((runid, str(tstamp), accuracy))\n",
        "    display(Image(p))"
      ]
    }
  ],
  "metadata": {
    "accelerator": "GPU",
    "colab": {
      "provenance": []
    },
    "gpuClass": "standard",
    "kernelspec": {
      "display_name": "Python 3",
      "name": "python3"
    },
    "language_info": {
      "codemirror_mode": {
        "name": "ipython",
        "version": 3
      },
      "file_extension": ".py",
      "mimetype": "text/x-python",
      "name": "python",
      "nbconvert_exporter": "python",
      "pygments_lexer": "ipython3",
      "version": "3.9.13"
    }
  },
  "nbformat": 4,
  "nbformat_minor": 0
}
